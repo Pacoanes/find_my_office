{
 "cells": [
  {
   "cell_type": "code",
   "execution_count": 1,
   "metadata": {},
   "outputs": [],
   "source": [
    "# https://api.mongodb.com/python/current/tutorial.html\n",
    "import pprint\n",
    "from pymongo import MongoClient\n",
    "import pandas as pd\n",
    "import requests as req \n",
    "import json\n",
    "import math\n",
    "import re\n",
    "import folium\n",
    "from folium import plugins\n",
    "client = MongoClient('mongodb://localhost:27017/')\n",
    "db = client.ejercicio"
   ]
  },
  {
   "cell_type": "code",
   "execution_count": 2,
   "metadata": {},
   "outputs": [],
   "source": [
    "# {$and:[{deadpooled_year:null}, {number_of_employees:{$ne:null}}, {\"offices.latitude\":{$ne:null}}, {\"offices.latitude\":{$exists:true}}]}"
   ]
  },
  {
   "cell_type": "code",
   "execution_count": 3,
   "metadata": {},
   "outputs": [],
   "source": [
    "empresas= db.companhias.find({\"$and\":[{\"deadpooled_year\":None}, {\"number_of_employees\":{\"$ne\":None}},{\"total_money_raised\":{\"$ne\":None}}, {\"offices.latitude\":{\"$ne\":None}}, {\"offices.latitude\":{\"$exists\":\"true\"}}]})"
   ]
  },
  {
   "cell_type": "code",
   "execution_count": 4,
   "metadata": {},
   "outputs": [],
   "source": [
    "df=pd.DataFrame(empresas)[[\"name\",\"category_code\",\"number_of_employees\",\"founded_year\", \"total_money_raised\",\"offices\"]]"
   ]
  },
  {
   "cell_type": "code",
   "execution_count": 5,
   "metadata": {},
   "outputs": [
    {
     "data": {
      "text/plain": [
       "(4839, 6)"
      ]
     },
     "execution_count": 5,
     "metadata": {},
     "output_type": "execute_result"
    }
   ],
   "source": []
  },
  {
   "cell_type": "code",
   "execution_count": 6,
   "metadata": {},
   "outputs": [
    {
     "data": {
      "text/html": [
       "<div>\n",
       "<style scoped>\n",
       "    .dataframe tbody tr th:only-of-type {\n",
       "        vertical-align: middle;\n",
       "    }\n",
       "\n",
       "    .dataframe tbody tr th {\n",
       "        vertical-align: top;\n",
       "    }\n",
       "\n",
       "    .dataframe thead th {\n",
       "        text-align: right;\n",
       "    }\n",
       "</style>\n",
       "<table border=\"1\" class=\"dataframe\">\n",
       "  <thead>\n",
       "    <tr style=\"text-align: right;\">\n",
       "      <th></th>\n",
       "      <th>name</th>\n",
       "      <th>category_code</th>\n",
       "      <th>number_of_employees</th>\n",
       "      <th>founded_year</th>\n",
       "      <th>total_money_raised</th>\n",
       "      <th>offices</th>\n",
       "    </tr>\n",
       "  </thead>\n",
       "  <tbody>\n",
       "    <tr>\n",
       "      <th>0</th>\n",
       "      <td>Digg</td>\n",
       "      <td>news</td>\n",
       "      <td>60</td>\n",
       "      <td>2004.0</td>\n",
       "      <td>$45M</td>\n",
       "      <td>[{'description': None, 'address1': '135 Missis...</td>\n",
       "    </tr>\n",
       "    <tr>\n",
       "      <th>1</th>\n",
       "      <td>Geni</td>\n",
       "      <td>web</td>\n",
       "      <td>18</td>\n",
       "      <td>2006.0</td>\n",
       "      <td>$16.5M</td>\n",
       "      <td>[{'description': 'Headquarters', 'address1': '...</td>\n",
       "    </tr>\n",
       "    <tr>\n",
       "      <th>2</th>\n",
       "      <td>Fox Interactive Media</td>\n",
       "      <td>web</td>\n",
       "      <td>0</td>\n",
       "      <td>1979.0</td>\n",
       "      <td>$0</td>\n",
       "      <td>[{'description': '', 'address1': '407 N Maple ...</td>\n",
       "    </tr>\n",
       "    <tr>\n",
       "      <th>3</th>\n",
       "      <td>Scribd</td>\n",
       "      <td>news</td>\n",
       "      <td>50</td>\n",
       "      <td>2007.0</td>\n",
       "      <td>$25.8M</td>\n",
       "      <td>[{'description': 'HQ', 'address1': '539 Bryant...</td>\n",
       "    </tr>\n",
       "    <tr>\n",
       "      <th>4</th>\n",
       "      <td>MeetMoi</td>\n",
       "      <td>social</td>\n",
       "      <td>15</td>\n",
       "      <td>2007.0</td>\n",
       "      <td>$5.58M</td>\n",
       "      <td>[{'description': None, 'address1': '', 'addres...</td>\n",
       "    </tr>\n",
       "  </tbody>\n",
       "</table>\n",
       "</div>"
      ],
      "text/plain": [
       "                    name category_code  number_of_employees  founded_year  \\\n",
       "0                   Digg          news                   60        2004.0   \n",
       "1                   Geni           web                   18        2006.0   \n",
       "2  Fox Interactive Media           web                    0        1979.0   \n",
       "3                 Scribd          news                   50        2007.0   \n",
       "4                MeetMoi        social                   15        2007.0   \n",
       "\n",
       "  total_money_raised                                            offices  \n",
       "0               $45M  [{'description': None, 'address1': '135 Missis...  \n",
       "1             $16.5M  [{'description': 'Headquarters', 'address1': '...  \n",
       "2                 $0  [{'description': '', 'address1': '407 N Maple ...  \n",
       "3             $25.8M  [{'description': 'HQ', 'address1': '539 Bryant...  \n",
       "4             $5.58M  [{'description': None, 'address1': '', 'addres...  "
      ]
     },
     "execution_count": 6,
     "metadata": {},
     "output_type": "execute_result"
    }
   ],
   "source": [
    "df.head()"
   ]
  },
  {
   "cell_type": "code",
   "execution_count": 7,
   "metadata": {},
   "outputs": [],
   "source": [
    "df1=df.copy()"
   ]
  },
  {
   "cell_type": "code",
   "execution_count": 8,
   "metadata": {},
   "outputs": [],
   "source": [
    "res = req.get(\"https://api.exchangeratesapi.io/latest?base=USD\").json()"
   ]
  },
  {
   "cell_type": "code",
   "execution_count": 9,
   "metadata": {},
   "outputs": [],
   "source": [
    "def cambiar(string):\n",
    "    if string.startswith(\"$\"):\n",
    "        string=string.replace(\"$\",\"\")\n",
    "        if string.endswith(\"M\"):\n",
    "            string=string.replace(\"M\",\"\")\n",
    "            string= float(string)*1000000\n",
    "        elif string.endswith(\"k\"):\n",
    "            string=string.replace(\"k\",\"\")\n",
    "            string= float(string)*1000\n",
    "        elif string.endswith(\"B\"):\n",
    "            string=string.replace(\"B\",\"\")\n",
    "            string= float(string)*1000000000\n",
    "        else:\n",
    "            string=float(string)\n",
    "    \n",
    "    elif string.startswith(\"€\"):\n",
    "        string=string.replace(\"€\",\"\")\n",
    "        if string.endswith(\"M\"):\n",
    "            string=string.replace(\"M\",\"\")\n",
    "            string= (float(string)*1000000)/res[\"rates\"][\"EUR\"]\n",
    "        elif string.endswith(\"k\"):\n",
    "            string=string.replace(\"k\",\"\")\n",
    "            string= (float(string)*1000)/res[\"rates\"][\"EUR\"]\n",
    "        elif string.endswith(\"B\"):\n",
    "            string=string.replace(\"B\",\"\")\n",
    "            string= (float(string)*1000000000)/res[\"rates\"][\"EUR\"]\n",
    "        else:\n",
    "            string=float(string)\n",
    "            \n",
    "    elif string.startswith(\"£\"):\n",
    "        string=string.replace(\"£\",\"\")\n",
    "        if string.endswith(\"M\"):\n",
    "            string=string.replace(\"M\",\"\")\n",
    "            string= (float(string)*1000000)/res[\"rates\"][\"GBP\"]\n",
    "        elif string.endswith(\"k\"):\n",
    "            string=string.replace(\"k\",\"\")\n",
    "            string= (float(string)*1000)/res[\"rates\"][\"GBP\"]\n",
    "        elif string.endswith(\"B\"):\n",
    "            string=string.replace(\"B\",\"\")\n",
    "            string= (float(string)*1000000000)/res[\"rates\"][\"GBP\"]\n",
    "        else:\n",
    "            string=float(string)\n",
    "\n",
    "    elif string.startswith(\"¥\"):\n",
    "        string=string.replace(\"¥\",\"\")\n",
    "        if string.endswith(\"M\"):\n",
    "            string=string.replace(\"M\",\"\")\n",
    "            string= (float(string)*1000000)/res[\"rates\"][\"JPY\"]\n",
    "        elif string.endswith(\"k\"):\n",
    "            string=string.replace(\"k\",\"\")\n",
    "            string= (float(string)*1000)/res[\"rates\"][\"JPY\"]\n",
    "        elif string.endswith(\"B\"):\n",
    "            string=string.replace(\"B\",\"\")\n",
    "            string= (float(string)*1000000000)/res[\"rates\"][\"JPY\"]\n",
    "        else:\n",
    "            string=float(string)\n",
    "      \n",
    "    elif string.startswith(\"C$\"):\n",
    "        string=string.replace(\"C$\",\"\")\n",
    "        if string.endswith(\"M\"):\n",
    "            string=string.replace(\"M\",\"\")\n",
    "            string= (float(string)*1000000)/res[\"rates\"][\"CAD\"]\n",
    "        elif string.endswith(\"k\"):\n",
    "            string=string.replace(\"k\",\"\")\n",
    "            string= (float(string)*1000)/res[\"rates\"][\"CAD\"]\n",
    "        elif string.endswith(\"B\"):\n",
    "            string=string.replace(\"B\",\"\")\n",
    "            string= (float(string)*1000000000)/res[\"rates\"][\"CAD\"]\n",
    "        else:\n",
    "            string=float(string)\n",
    "            \n",
    "    elif string.startswith(\"kr\"):\n",
    "        string=string.replace(\"kr\",\"\")\n",
    "        if string.endswith(\"M\"):\n",
    "            string=string.replace(\"M\",\"\")\n",
    "            string= (float(string)*1000000)/res[\"rates\"][\"SEK\"]\n",
    "        elif string.endswith(\"k\"):\n",
    "            string=string.replace(\"k\",\"\")\n",
    "            string= (float(string)*1000)/res[\"rates\"][\"SEK\"]\n",
    "        elif string.endswith(\"B\"):\n",
    "            string=string.replace(\"B\",\"\")\n",
    "            string= (float(string)*1000000000)/res[\"rates\"][\"SEK\"]\n",
    "        else:\n",
    "            string=float(string)\n",
    "        \n",
    "    return string"
   ]
  },
  {
   "cell_type": "code",
   "execution_count": 10,
   "metadata": {},
   "outputs": [],
   "source": [
    "lst=[]\n",
    "for a in range(len(df1)):\n",
    "    lst.append(df1[\"offices\"][a][0][\"city\"])\n",
    "   "
   ]
  },
  {
   "cell_type": "code",
   "execution_count": 11,
   "metadata": {},
   "outputs": [],
   "source": [
    "df1[\"ciudad\"]=lst"
   ]
  },
  {
   "cell_type": "code",
   "execution_count": 13,
   "metadata": {},
   "outputs": [
    {
     "data": {
      "text/html": [
       "<div>\n",
       "<style scoped>\n",
       "    .dataframe tbody tr th:only-of-type {\n",
       "        vertical-align: middle;\n",
       "    }\n",
       "\n",
       "    .dataframe tbody tr th {\n",
       "        vertical-align: top;\n",
       "    }\n",
       "\n",
       "    .dataframe thead th {\n",
       "        text-align: right;\n",
       "    }\n",
       "</style>\n",
       "<table border=\"1\" class=\"dataframe\">\n",
       "  <thead>\n",
       "    <tr style=\"text-align: right;\">\n",
       "      <th></th>\n",
       "      <th>name</th>\n",
       "      <th>category_code</th>\n",
       "      <th>number_of_employees</th>\n",
       "      <th>founded_year</th>\n",
       "      <th>total_money_raised</th>\n",
       "      <th>offices</th>\n",
       "      <th>ciudad</th>\n",
       "    </tr>\n",
       "  </thead>\n",
       "  <tbody>\n",
       "    <tr>\n",
       "      <th>0</th>\n",
       "      <td>Digg</td>\n",
       "      <td>news</td>\n",
       "      <td>60</td>\n",
       "      <td>2004.0</td>\n",
       "      <td>$45M</td>\n",
       "      <td>[{'description': None, 'address1': '135 Missis...</td>\n",
       "      <td>San Francisco</td>\n",
       "    </tr>\n",
       "    <tr>\n",
       "      <th>1</th>\n",
       "      <td>Geni</td>\n",
       "      <td>web</td>\n",
       "      <td>18</td>\n",
       "      <td>2006.0</td>\n",
       "      <td>$16.5M</td>\n",
       "      <td>[{'description': 'Headquarters', 'address1': '...</td>\n",
       "      <td>West Hollywood</td>\n",
       "    </tr>\n",
       "    <tr>\n",
       "      <th>2</th>\n",
       "      <td>Fox Interactive Media</td>\n",
       "      <td>web</td>\n",
       "      <td>0</td>\n",
       "      <td>1979.0</td>\n",
       "      <td>$0</td>\n",
       "      <td>[{'description': '', 'address1': '407 N Maple ...</td>\n",
       "      <td>Beverly Hills</td>\n",
       "    </tr>\n",
       "    <tr>\n",
       "      <th>3</th>\n",
       "      <td>Scribd</td>\n",
       "      <td>news</td>\n",
       "      <td>50</td>\n",
       "      <td>2007.0</td>\n",
       "      <td>$25.8M</td>\n",
       "      <td>[{'description': 'HQ', 'address1': '539 Bryant...</td>\n",
       "      <td>San Francisco</td>\n",
       "    </tr>\n",
       "    <tr>\n",
       "      <th>4</th>\n",
       "      <td>MeetMoi</td>\n",
       "      <td>social</td>\n",
       "      <td>15</td>\n",
       "      <td>2007.0</td>\n",
       "      <td>$5.58M</td>\n",
       "      <td>[{'description': None, 'address1': '', 'addres...</td>\n",
       "      <td>New York City</td>\n",
       "    </tr>\n",
       "  </tbody>\n",
       "</table>\n",
       "</div>"
      ],
      "text/plain": [
       "                    name category_code  number_of_employees  founded_year  \\\n",
       "0                   Digg          news                   60        2004.0   \n",
       "1                   Geni           web                   18        2006.0   \n",
       "2  Fox Interactive Media           web                    0        1979.0   \n",
       "3                 Scribd          news                   50        2007.0   \n",
       "4                MeetMoi        social                   15        2007.0   \n",
       "\n",
       "  total_money_raised                                            offices  \\\n",
       "0               $45M  [{'description': None, 'address1': '135 Missis...   \n",
       "1             $16.5M  [{'description': 'Headquarters', 'address1': '...   \n",
       "2                 $0  [{'description': '', 'address1': '407 N Maple ...   \n",
       "3             $25.8M  [{'description': 'HQ', 'address1': '539 Bryant...   \n",
       "4             $5.58M  [{'description': None, 'address1': '', 'addres...   \n",
       "\n",
       "           ciudad  \n",
       "0   San Francisco  \n",
       "1  West Hollywood  \n",
       "2   Beverly Hills  \n",
       "3   San Francisco  \n",
       "4   New York City  "
      ]
     },
     "execution_count": 13,
     "metadata": {},
     "output_type": "execute_result"
    }
   ],
   "source": [
    "df1.head()"
   ]
  },
  {
   "cell_type": "code",
   "execution_count": 14,
   "metadata": {},
   "outputs": [],
   "source": [
    "df1[\"total_money_raised\"]=df1[\"total_money_raised\"].apply(cambiar)"
   ]
  },
  {
   "cell_type": "code",
   "execution_count": 15,
   "metadata": {},
   "outputs": [
    {
     "data": {
      "text/html": [
       "<div>\n",
       "<style scoped>\n",
       "    .dataframe tbody tr th:only-of-type {\n",
       "        vertical-align: middle;\n",
       "    }\n",
       "\n",
       "    .dataframe tbody tr th {\n",
       "        vertical-align: top;\n",
       "    }\n",
       "\n",
       "    .dataframe thead th {\n",
       "        text-align: right;\n",
       "    }\n",
       "</style>\n",
       "<table border=\"1\" class=\"dataframe\">\n",
       "  <thead>\n",
       "    <tr style=\"text-align: right;\">\n",
       "      <th></th>\n",
       "      <th>name</th>\n",
       "      <th>category_code</th>\n",
       "      <th>number_of_employees</th>\n",
       "      <th>founded_year</th>\n",
       "      <th>total_money_raised</th>\n",
       "      <th>offices</th>\n",
       "      <th>ciudad</th>\n",
       "    </tr>\n",
       "  </thead>\n",
       "  <tbody>\n",
       "    <tr>\n",
       "      <th>0</th>\n",
       "      <td>Digg</td>\n",
       "      <td>news</td>\n",
       "      <td>60</td>\n",
       "      <td>2004.0</td>\n",
       "      <td>45000000.0</td>\n",
       "      <td>[{'description': None, 'address1': '135 Missis...</td>\n",
       "      <td>San Francisco</td>\n",
       "    </tr>\n",
       "    <tr>\n",
       "      <th>1</th>\n",
       "      <td>Geni</td>\n",
       "      <td>web</td>\n",
       "      <td>18</td>\n",
       "      <td>2006.0</td>\n",
       "      <td>16500000.0</td>\n",
       "      <td>[{'description': 'Headquarters', 'address1': '...</td>\n",
       "      <td>West Hollywood</td>\n",
       "    </tr>\n",
       "    <tr>\n",
       "      <th>2</th>\n",
       "      <td>Fox Interactive Media</td>\n",
       "      <td>web</td>\n",
       "      <td>0</td>\n",
       "      <td>1979.0</td>\n",
       "      <td>0.0</td>\n",
       "      <td>[{'description': '', 'address1': '407 N Maple ...</td>\n",
       "      <td>Beverly Hills</td>\n",
       "    </tr>\n",
       "    <tr>\n",
       "      <th>3</th>\n",
       "      <td>Scribd</td>\n",
       "      <td>news</td>\n",
       "      <td>50</td>\n",
       "      <td>2007.0</td>\n",
       "      <td>25800000.0</td>\n",
       "      <td>[{'description': 'HQ', 'address1': '539 Bryant...</td>\n",
       "      <td>San Francisco</td>\n",
       "    </tr>\n",
       "    <tr>\n",
       "      <th>4</th>\n",
       "      <td>MeetMoi</td>\n",
       "      <td>social</td>\n",
       "      <td>15</td>\n",
       "      <td>2007.0</td>\n",
       "      <td>5580000.0</td>\n",
       "      <td>[{'description': None, 'address1': '', 'addres...</td>\n",
       "      <td>New York City</td>\n",
       "    </tr>\n",
       "  </tbody>\n",
       "</table>\n",
       "</div>"
      ],
      "text/plain": [
       "                    name category_code  number_of_employees  founded_year  \\\n",
       "0                   Digg          news                   60        2004.0   \n",
       "1                   Geni           web                   18        2006.0   \n",
       "2  Fox Interactive Media           web                    0        1979.0   \n",
       "3                 Scribd          news                   50        2007.0   \n",
       "4                MeetMoi        social                   15        2007.0   \n",
       "\n",
       "   total_money_raised                                            offices  \\\n",
       "0          45000000.0  [{'description': None, 'address1': '135 Missis...   \n",
       "1          16500000.0  [{'description': 'Headquarters', 'address1': '...   \n",
       "2                 0.0  [{'description': '', 'address1': '407 N Maple ...   \n",
       "3          25800000.0  [{'description': 'HQ', 'address1': '539 Bryant...   \n",
       "4           5580000.0  [{'description': None, 'address1': '', 'addres...   \n",
       "\n",
       "           ciudad  \n",
       "0   San Francisco  \n",
       "1  West Hollywood  \n",
       "2   Beverly Hills  \n",
       "3   San Francisco  \n",
       "4   New York City  "
      ]
     },
     "execution_count": 15,
     "metadata": {},
     "output_type": "execute_result"
    }
   ],
   "source": [
    "df1.head()"
   ]
  },
  {
   "cell_type": "code",
   "execution_count": null,
   "metadata": {},
   "outputs": [],
   "source": []
  },
  {
   "cell_type": "code",
   "execution_count": null,
   "metadata": {},
   "outputs": [],
   "source": []
  },
  {
   "cell_type": "code",
   "execution_count": null,
   "metadata": {},
   "outputs": [],
   "source": []
  },
  {
   "cell_type": "code",
   "execution_count": null,
   "metadata": {},
   "outputs": [],
   "source": []
  },
  {
   "cell_type": "code",
   "execution_count": 16,
   "metadata": {},
   "outputs": [],
   "source": [
    "def getFirst(data):\n",
    "    data = data['offices']\n",
    "#    return (len(data),data[0]['latitude'],data[0]['longitude'])\n",
    "\n",
    "    # Only create the geoJSON object if all geodata is available\n",
    "    principal = None\n",
    "    if data[0]['latitude'] and data[0]['longitude']:\n",
    "        principal = {\n",
    "            \"type\":\"Point\",\n",
    "            \"coordinates\":[data[0]['longitude'], data[0]['latitude']]\n",
    "        }\n",
    "\n",
    "    return {\n",
    "        \"totalOffices\": len(data),\n",
    "        \"lat\": data[0]['latitude'],\n",
    "        \"lng\": data[0]['longitude'],\n",
    "        \"oficina_principal\": principal\n",
    "    }\n",
    "\n",
    "\n",
    "first_office = df1[[\"offices\"]].apply(getFirst, result_type=\"expand\", axis=1)"
   ]
  },
  {
   "cell_type": "code",
   "execution_count": 17,
   "metadata": {},
   "outputs": [
    {
     "data": {
      "text/html": [
       "<div>\n",
       "<style scoped>\n",
       "    .dataframe tbody tr th:only-of-type {\n",
       "        vertical-align: middle;\n",
       "    }\n",
       "\n",
       "    .dataframe tbody tr th {\n",
       "        vertical-align: top;\n",
       "    }\n",
       "\n",
       "    .dataframe thead th {\n",
       "        text-align: right;\n",
       "    }\n",
       "</style>\n",
       "<table border=\"1\" class=\"dataframe\">\n",
       "  <thead>\n",
       "    <tr style=\"text-align: right;\">\n",
       "      <th></th>\n",
       "      <th>lat</th>\n",
       "      <th>lng</th>\n",
       "      <th>oficina_principal</th>\n",
       "      <th>totalOffices</th>\n",
       "    </tr>\n",
       "  </thead>\n",
       "  <tbody>\n",
       "    <tr>\n",
       "      <th>0</th>\n",
       "      <td>37.764726</td>\n",
       "      <td>-122.394523</td>\n",
       "      <td>{'type': 'Point', 'coordinates': [-122.394523,...</td>\n",
       "      <td>1</td>\n",
       "    </tr>\n",
       "    <tr>\n",
       "      <th>1</th>\n",
       "      <td>34.090368</td>\n",
       "      <td>-118.393064</td>\n",
       "      <td>{'type': 'Point', 'coordinates': [-118.393064,...</td>\n",
       "      <td>1</td>\n",
       "    </tr>\n",
       "    <tr>\n",
       "      <th>2</th>\n",
       "      <td>34.076179</td>\n",
       "      <td>-118.394170</td>\n",
       "      <td>{'type': 'Point', 'coordinates': [-118.39417, ...</td>\n",
       "      <td>1</td>\n",
       "    </tr>\n",
       "    <tr>\n",
       "      <th>3</th>\n",
       "      <td>37.789634</td>\n",
       "      <td>-122.404052</td>\n",
       "      <td>{'type': 'Point', 'coordinates': [-122.404052,...</td>\n",
       "      <td>1</td>\n",
       "    </tr>\n",
       "    <tr>\n",
       "      <th>4</th>\n",
       "      <td>40.757929</td>\n",
       "      <td>-73.985506</td>\n",
       "      <td>{'type': 'Point', 'coordinates': [-73.985506, ...</td>\n",
       "      <td>1</td>\n",
       "    </tr>\n",
       "  </tbody>\n",
       "</table>\n",
       "</div>"
      ],
      "text/plain": [
       "         lat         lng                                  oficina_principal  \\\n",
       "0  37.764726 -122.394523  {'type': 'Point', 'coordinates': [-122.394523,...   \n",
       "1  34.090368 -118.393064  {'type': 'Point', 'coordinates': [-118.393064,...   \n",
       "2  34.076179 -118.394170  {'type': 'Point', 'coordinates': [-118.39417, ...   \n",
       "3  37.789634 -122.404052  {'type': 'Point', 'coordinates': [-122.404052,...   \n",
       "4  40.757929  -73.985506  {'type': 'Point', 'coordinates': [-73.985506, ...   \n",
       "\n",
       "   totalOffices  \n",
       "0             1  \n",
       "1             1  \n",
       "2             1  \n",
       "3             1  \n",
       "4             1  "
      ]
     },
     "execution_count": 17,
     "metadata": {},
     "output_type": "execute_result"
    }
   ],
   "source": [
    "first_office.head()"
   ]
  },
  {
   "cell_type": "code",
   "execution_count": 31,
   "metadata": {},
   "outputs": [],
   "source": [
    "df_clean = pd.concat([df1,first_office], axis=1)[[\"name\",\"lng\",\"lat\", \"oficina_principal\",\"totalOffices\", \"category_code\", \"number_of_employees\", \"founded_year\", \"total_money_raised\", \"ciudad\"]]"
   ]
  },
  {
   "cell_type": "code",
   "execution_count": 32,
   "metadata": {},
   "outputs": [
    {
     "data": {
      "text/html": [
       "<div>\n",
       "<style scoped>\n",
       "    .dataframe tbody tr th:only-of-type {\n",
       "        vertical-align: middle;\n",
       "    }\n",
       "\n",
       "    .dataframe tbody tr th {\n",
       "        vertical-align: top;\n",
       "    }\n",
       "\n",
       "    .dataframe thead th {\n",
       "        text-align: right;\n",
       "    }\n",
       "</style>\n",
       "<table border=\"1\" class=\"dataframe\">\n",
       "  <thead>\n",
       "    <tr style=\"text-align: right;\">\n",
       "      <th></th>\n",
       "      <th>name</th>\n",
       "      <th>lng</th>\n",
       "      <th>lat</th>\n",
       "      <th>oficina_principal</th>\n",
       "      <th>totalOffices</th>\n",
       "      <th>category_code</th>\n",
       "      <th>number_of_employees</th>\n",
       "      <th>founded_year</th>\n",
       "      <th>total_money_raised</th>\n",
       "      <th>ciudad</th>\n",
       "    </tr>\n",
       "  </thead>\n",
       "  <tbody>\n",
       "    <tr>\n",
       "      <th>0</th>\n",
       "      <td>Digg</td>\n",
       "      <td>-122.394523</td>\n",
       "      <td>37.764726</td>\n",
       "      <td>{'type': 'Point', 'coordinates': [-122.394523,...</td>\n",
       "      <td>1</td>\n",
       "      <td>news</td>\n",
       "      <td>60</td>\n",
       "      <td>2004.0</td>\n",
       "      <td>45000000.0</td>\n",
       "      <td>San Francisco</td>\n",
       "    </tr>\n",
       "    <tr>\n",
       "      <th>1</th>\n",
       "      <td>Geni</td>\n",
       "      <td>-118.393064</td>\n",
       "      <td>34.090368</td>\n",
       "      <td>{'type': 'Point', 'coordinates': [-118.393064,...</td>\n",
       "      <td>1</td>\n",
       "      <td>web</td>\n",
       "      <td>18</td>\n",
       "      <td>2006.0</td>\n",
       "      <td>16500000.0</td>\n",
       "      <td>West Hollywood</td>\n",
       "    </tr>\n",
       "    <tr>\n",
       "      <th>2</th>\n",
       "      <td>Fox Interactive Media</td>\n",
       "      <td>-118.394170</td>\n",
       "      <td>34.076179</td>\n",
       "      <td>{'type': 'Point', 'coordinates': [-118.39417, ...</td>\n",
       "      <td>1</td>\n",
       "      <td>web</td>\n",
       "      <td>0</td>\n",
       "      <td>1979.0</td>\n",
       "      <td>0.0</td>\n",
       "      <td>Beverly Hills</td>\n",
       "    </tr>\n",
       "    <tr>\n",
       "      <th>3</th>\n",
       "      <td>Scribd</td>\n",
       "      <td>-122.404052</td>\n",
       "      <td>37.789634</td>\n",
       "      <td>{'type': 'Point', 'coordinates': [-122.404052,...</td>\n",
       "      <td>1</td>\n",
       "      <td>news</td>\n",
       "      <td>50</td>\n",
       "      <td>2007.0</td>\n",
       "      <td>25800000.0</td>\n",
       "      <td>San Francisco</td>\n",
       "    </tr>\n",
       "    <tr>\n",
       "      <th>4</th>\n",
       "      <td>MeetMoi</td>\n",
       "      <td>-73.985506</td>\n",
       "      <td>40.757929</td>\n",
       "      <td>{'type': 'Point', 'coordinates': [-73.985506, ...</td>\n",
       "      <td>1</td>\n",
       "      <td>social</td>\n",
       "      <td>15</td>\n",
       "      <td>2007.0</td>\n",
       "      <td>5580000.0</td>\n",
       "      <td>New York City</td>\n",
       "    </tr>\n",
       "  </tbody>\n",
       "</table>\n",
       "</div>"
      ],
      "text/plain": [
       "                    name         lng        lat  \\\n",
       "0                   Digg -122.394523  37.764726   \n",
       "1                   Geni -118.393064  34.090368   \n",
       "2  Fox Interactive Media -118.394170  34.076179   \n",
       "3                 Scribd -122.404052  37.789634   \n",
       "4                MeetMoi  -73.985506  40.757929   \n",
       "\n",
       "                                   oficina_principal  totalOffices  \\\n",
       "0  {'type': 'Point', 'coordinates': [-122.394523,...             1   \n",
       "1  {'type': 'Point', 'coordinates': [-118.393064,...             1   \n",
       "2  {'type': 'Point', 'coordinates': [-118.39417, ...             1   \n",
       "3  {'type': 'Point', 'coordinates': [-122.404052,...             1   \n",
       "4  {'type': 'Point', 'coordinates': [-73.985506, ...             1   \n",
       "\n",
       "  category_code  number_of_employees  founded_year  total_money_raised  \\\n",
       "0          news                   60        2004.0          45000000.0   \n",
       "1           web                   18        2006.0          16500000.0   \n",
       "2           web                    0        1979.0                 0.0   \n",
       "3          news                   50        2007.0          25800000.0   \n",
       "4        social                   15        2007.0           5580000.0   \n",
       "\n",
       "           ciudad  \n",
       "0   San Francisco  \n",
       "1  West Hollywood  \n",
       "2   Beverly Hills  \n",
       "3   San Francisco  \n",
       "4   New York City  "
      ]
     },
     "execution_count": 32,
     "metadata": {},
     "output_type": "execute_result"
    }
   ],
   "source": [
    "df_clean.head()"
   ]
  },
  {
   "cell_type": "code",
   "execution_count": null,
   "metadata": {},
   "outputs": [],
   "source": []
  },
  {
   "cell_type": "code",
   "execution_count": null,
   "metadata": {},
   "outputs": [],
   "source": []
  },
  {
   "cell_type": "code",
   "execution_count": 34,
   "metadata": {},
   "outputs": [],
   "source": [
    "df_clean.to_json('limpio.json', orient=\"records\")"
   ]
  },
  {
   "cell_type": "code",
   "execution_count": 35,
   "metadata": {},
   "outputs": [],
   "source": [
    "df_clean.to_csv('limpio.csv')"
   ]
  },
  {
   "cell_type": "code",
   "execution_count": 36,
   "metadata": {},
   "outputs": [],
   "source": [
    "oficinas=df_clean.copy()"
   ]
  },
  {
   "cell_type": "code",
   "execution_count": 39,
   "metadata": {},
   "outputs": [
    {
     "name": "stdout",
     "output_type": "stream",
     "text": [
      "['San Francisco', 'New York', 'London', 'Seattle', 'Mountain View', 'San Mateo', 'Palo Alto', 'Boulder', 'Los Angeles', 'San Jose', 'Paris', 'Chicago', 'Boston', 'Portland', 'Berlin', 'Cambridge', 'Redwood City', 'Burlington', 'Madrid', 'Sunnyvale']\n"
     ]
    }
   ],
   "source": [
    "oficinas=oficinas[(oficinas[\"total_money_raised\"]>1000000) & (oficinas[\"founded_year\"]>2005)]\n",
    "lista_paises=list(oficinas.ciudad.value_counts().head(20).index)\n",
    "print(lista_paises)"
   ]
  },
  {
   "cell_type": "code",
   "execution_count": 116,
   "metadata": {},
   "outputs": [
    {
     "ename": "TypeError",
     "evalue": "append() takes exactly one argument (2 given)",
     "output_type": "error",
     "traceback": [
      "\u001b[0;31m---------------------------------------------------------------------------\u001b[0m",
      "\u001b[0;31mTypeError\u001b[0m                                 Traceback (most recent call last)",
      "\u001b[0;32m<ipython-input-116-1cd599c16b14>\u001b[0m in \u001b[0;36m<module>\u001b[0;34m\u001b[0m\n\u001b[1;32m      6\u001b[0m     \u001b[0msuma\u001b[0m\u001b[0;34m=\u001b[0m\u001b[0mbd\u001b[0m\u001b[0;34m.\u001b[0m\u001b[0mtotal_money_raised\u001b[0m\u001b[0;34m.\u001b[0m\u001b[0msum\u001b[0m\u001b[0;34m(\u001b[0m\u001b[0;34m)\u001b[0m\u001b[0;34m\u001b[0m\u001b[0;34m\u001b[0m\u001b[0m\n\u001b[1;32m      7\u001b[0m     \u001b[0mmedia\u001b[0m\u001b[0;34m=\u001b[0m\u001b[0mround\u001b[0m\u001b[0;34m(\u001b[0m\u001b[0msuma\u001b[0m\u001b[0;34m/\u001b[0m\u001b[0mcontador\u001b[0m\u001b[0;34m)\u001b[0m\u001b[0;34m\u001b[0m\u001b[0;34m\u001b[0m\u001b[0m\n\u001b[0;32m----> 8\u001b[0;31m     \u001b[0mmedias\u001b[0m\u001b[0;34m.\u001b[0m\u001b[0mappend\u001b[0m\u001b[0;34m(\u001b[0m\u001b[0mc\u001b[0m\u001b[0;34m,\u001b[0m \u001b[0mmedia\u001b[0m\u001b[0;34m)\u001b[0m\u001b[0;34m\u001b[0m\u001b[0;34m\u001b[0m\u001b[0m\n\u001b[0m\u001b[1;32m      9\u001b[0m     \u001b[0mi\u001b[0m\u001b[0;34m+=\u001b[0m\u001b[0;36m1\u001b[0m\u001b[0;34m\u001b[0m\u001b[0;34m\u001b[0m\u001b[0m\n\u001b[1;32m     10\u001b[0m \u001b[0mprint\u001b[0m\u001b[0;34m(\u001b[0m\u001b[0mmedias\u001b[0m\u001b[0;34m)\u001b[0m\u001b[0;34m\u001b[0m\u001b[0;34m\u001b[0m\u001b[0m\n",
      "\u001b[0;31mTypeError\u001b[0m: append() takes exactly one argument (2 given)"
     ]
    }
   ],
   "source": [
    "for c in lista_paises:\n",
    "    i=0\n",
    "    medias=[]\n",
    "    bd = oficinas[oficinas[\"ciudad\"]==c]\n",
    "    contador=bd.ciudad.count()\n",
    "    suma=bd.total_money_raised.sum()\n",
    "    media=round(suma/contador)\n",
    "    medias.append(c, media)\n",
    "    i+=1\n",
    "print(medias) "
   ]
  },
  {
   "cell_type": "code",
   "execution_count": 65,
   "metadata": {},
   "outputs": [
    {
     "data": {
      "text/plain": [
       "Series([], Name: ciudad, dtype: object)"
      ]
     },
     "execution_count": 65,
     "metadata": {},
     "output_type": "execute_result"
    }
   ],
   "source": [
    "bd.ciudad"
   ]
  },
  {
   "cell_type": "code",
   "execution_count": null,
   "metadata": {},
   "outputs": [],
   "source": []
  },
  {
   "cell_type": "code",
   "execution_count": null,
   "metadata": {},
   "outputs": [],
   "source": []
  },
  {
   "cell_type": "code",
   "execution_count": null,
   "metadata": {},
   "outputs": [],
   "source": []
  },
  {
   "cell_type": "code",
   "execution_count": null,
   "metadata": {},
   "outputs": [],
   "source": []
  },
  {
   "cell_type": "code",
   "execution_count": null,
   "metadata": {},
   "outputs": [],
   "source": [
    "m = folium.Map([41.8781, -87.6298], zoom_start=2)\n",
    "stationArr = oficinas[['lat', 'lng']].values\n",
    "m.add_child(plugins.HeatMap(stationArr, radius=15))\n",
    "m"
   ]
  },
  {
   "cell_type": "code",
   "execution_count": null,
   "metadata": {},
   "outputs": [],
   "source": []
  },
  {
   "cell_type": "code",
   "execution_count": null,
   "metadata": {},
   "outputs": [],
   "source": [
    "#https://docs.mongodb.com/manual/reference/operator/query/near/index.html\n",
    "def findNear(geopoint, radio_max_meters=2000):\n",
    "    return db.empresas.find({\"oficina_principal\": {\"$near\": {\"$geometry\": geopoint,\"$maxDistance\": radio_max_meters,}}})\n",
    "\n",
    "\n",
    "# https://developers.google.com/maps/documentation/geocoding/intro\n",
    "park_avenue_con_21_street = {\n",
    "    \"type\":\"Point\",\n",
    "    \"coordinates\":[-73.987308,40.738935]\n",
    "}\n",
    "radio_max_meters = 10000\n",
    "num_offices = findNear(park_avenue_con_21_street, radio_max_meters).count()\n",
    "\n",
    "print(f\"Hay {num_offices} oficinas cerca a {radio_max_meters} metros\")\n",
    "print(\"La mas cercana es\")\n",
    "print(list(findNear(park_avenue_con_21_street, radio_max_meters).limit(1)))"
   ]
  },
  {
   "cell_type": "code",
   "execution_count": null,
   "metadata": {},
   "outputs": [],
   "source": []
  }
 ],
 "metadata": {
  "kernelspec": {
   "display_name": "Python 3",
   "language": "python",
   "name": "python3"
  },
  "language_info": {
   "codemirror_mode": {
    "name": "ipython",
    "version": 3
   },
   "file_extension": ".py",
   "mimetype": "text/x-python",
   "name": "python",
   "nbconvert_exporter": "python",
   "pygments_lexer": "ipython3",
   "version": "3.7.2"
  }
 },
 "nbformat": 4,
 "nbformat_minor": 2
}
