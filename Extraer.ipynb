{
 "cells": [
  {
   "cell_type": "code",
   "execution_count": 52,
   "metadata": {},
   "outputs": [],
   "source": [
    "# https://api.mongodb.com/python/current/tutorial.html\n",
    "import pprint\n",
    "from pymongo import MongoClient\n",
    "import pandas as pd\n",
    "import requests as req \n",
    "import json\n",
    "import math\n",
    "import re\n",
    "import folium\n",
    "from folium import plugins\n",
    "from folium.plugins import MiniMap\n",
    "import os\n",
    "from dotenv import load_dotenv\n",
    "load_dotenv()\n",
    "import matplotlib.pyplot as plt\n",
    "import seaborn as sns\n",
    "import webbrowser\n",
    "\n",
    "\n",
    "api_key = os.environ[\"key\"]   \n",
    "g_key = os.environ[\"gkey\"] \n",
    "m_key = os.environ[\"mkey\"] \n",
    "\n",
    "client = MongoClient('mongodb://localhost:27017/')\n",
    "db = client.ejercicio"
   ]
  },
  {
   "cell_type": "code",
   "execution_count": 3,
   "metadata": {},
   "outputs": [],
   "source": [
    "# {$and:[{deadpooled_year:null}, {number_of_employees:{$ne:null}}, {\"offices.latitude\":{$ne:null}}, {\"offices.latitude\":{$exists:true}}]}"
   ]
  },
  {
   "cell_type": "code",
   "execution_count": 4,
   "metadata": {},
   "outputs": [],
   "source": [
    "empresas= db.companhias.find({\"$and\":[{\"deadpooled_year\":None}, {\"number_of_employees\":{\"$ne\":None}},{\"total_money_raised\":{\"$ne\":None}}, {\"offices.latitude\":{\"$ne\":None}}, {\"offices.latitude\":{\"$exists\":\"true\"}}]})"
   ]
  },
  {
   "cell_type": "code",
   "execution_count": 5,
   "metadata": {},
   "outputs": [],
   "source": [
    "df=pd.DataFrame(empresas)[[\"name\",\"category_code\",\"number_of_employees\",\"founded_year\", \"total_money_raised\",\"offices\"]]"
   ]
  },
  {
   "cell_type": "code",
   "execution_count": 6,
   "metadata": {},
   "outputs": [],
   "source": [
    "df1=df.copy()"
   ]
  },
  {
   "cell_type": "code",
   "execution_count": 7,
   "metadata": {},
   "outputs": [],
   "source": [
    "res = req.get(\"https://api.exchangeratesapi.io/latest?base=USD\").json()"
   ]
  },
  {
   "cell_type": "code",
   "execution_count": 8,
   "metadata": {},
   "outputs": [],
   "source": [
    "def cambiar(string):\n",
    "    if string.startswith(\"$\"):\n",
    "        string=string.replace(\"$\",\"\")\n",
    "        if string.endswith(\"M\"):\n",
    "            string=string.replace(\"M\",\"\")\n",
    "            string= float(string)*1000000\n",
    "        elif string.endswith(\"k\"):\n",
    "            string=string.replace(\"k\",\"\")\n",
    "            string= float(string)*1000\n",
    "        elif string.endswith(\"B\"):\n",
    "            string=string.replace(\"B\",\"\")\n",
    "            string= float(string)*1000000000\n",
    "        else:\n",
    "            string=float(string)\n",
    "    \n",
    "    elif string.startswith(\"€\"):\n",
    "        string=string.replace(\"€\",\"\")\n",
    "        if string.endswith(\"M\"):\n",
    "            string=string.replace(\"M\",\"\")\n",
    "            string= (float(string)*1000000)/res[\"rates\"][\"EUR\"]\n",
    "        elif string.endswith(\"k\"):\n",
    "            string=string.replace(\"k\",\"\")\n",
    "            string= (float(string)*1000)/res[\"rates\"][\"EUR\"]\n",
    "        elif string.endswith(\"B\"):\n",
    "            string=string.replace(\"B\",\"\")\n",
    "            string= (float(string)*1000000000)/res[\"rates\"][\"EUR\"]\n",
    "        else:\n",
    "            string=float(string)\n",
    "            \n",
    "    elif string.startswith(\"£\"):\n",
    "        string=string.replace(\"£\",\"\")\n",
    "        if string.endswith(\"M\"):\n",
    "            string=string.replace(\"M\",\"\")\n",
    "            string= (float(string)*1000000)/res[\"rates\"][\"GBP\"]\n",
    "        elif string.endswith(\"k\"):\n",
    "            string=string.replace(\"k\",\"\")\n",
    "            string= (float(string)*1000)/res[\"rates\"][\"GBP\"]\n",
    "        elif string.endswith(\"B\"):\n",
    "            string=string.replace(\"B\",\"\")\n",
    "            string= (float(string)*1000000000)/res[\"rates\"][\"GBP\"]\n",
    "        else:\n",
    "            string=float(string)\n",
    "\n",
    "    elif string.startswith(\"¥\"):\n",
    "        string=string.replace(\"¥\",\"\")\n",
    "        if string.endswith(\"M\"):\n",
    "            string=string.replace(\"M\",\"\")\n",
    "            string= (float(string)*1000000)/res[\"rates\"][\"JPY\"]\n",
    "        elif string.endswith(\"k\"):\n",
    "            string=string.replace(\"k\",\"\")\n",
    "            string= (float(string)*1000)/res[\"rates\"][\"JPY\"]\n",
    "        elif string.endswith(\"B\"):\n",
    "            string=string.replace(\"B\",\"\")\n",
    "            string= (float(string)*1000000000)/res[\"rates\"][\"JPY\"]\n",
    "        else:\n",
    "            string=float(string)\n",
    "      \n",
    "    elif string.startswith(\"C$\"):\n",
    "        string=string.replace(\"C$\",\"\")\n",
    "        if string.endswith(\"M\"):\n",
    "            string=string.replace(\"M\",\"\")\n",
    "            string= (float(string)*1000000)/res[\"rates\"][\"CAD\"]\n",
    "        elif string.endswith(\"k\"):\n",
    "            string=string.replace(\"k\",\"\")\n",
    "            string= (float(string)*1000)/res[\"rates\"][\"CAD\"]\n",
    "        elif string.endswith(\"B\"):\n",
    "            string=string.replace(\"B\",\"\")\n",
    "            string= (float(string)*1000000000)/res[\"rates\"][\"CAD\"]\n",
    "        else:\n",
    "            string=float(string)\n",
    "            \n",
    "    elif string.startswith(\"kr\"):\n",
    "        string=string.replace(\"kr\",\"\")\n",
    "        if string.endswith(\"M\"):\n",
    "            string=string.replace(\"M\",\"\")\n",
    "            string= (float(string)*1000000)/res[\"rates\"][\"SEK\"]\n",
    "        elif string.endswith(\"k\"):\n",
    "            string=string.replace(\"k\",\"\")\n",
    "            string= (float(string)*1000)/res[\"rates\"][\"SEK\"]\n",
    "        elif string.endswith(\"B\"):\n",
    "            string=string.replace(\"B\",\"\")\n",
    "            string= (float(string)*1000000000)/res[\"rates\"][\"SEK\"]\n",
    "        else:\n",
    "            string=float(string)\n",
    "        \n",
    "    return string"
   ]
  },
  {
   "cell_type": "code",
   "execution_count": 9,
   "metadata": {},
   "outputs": [],
   "source": [
    "lst=[]\n",
    "for a in range(len(df1)):\n",
    "    lst.append(df1[\"offices\"][a][0][\"city\"])\n",
    "df1[\"ciudad\"]=lst"
   ]
  },
  {
   "cell_type": "code",
   "execution_count": 10,
   "metadata": {},
   "outputs": [],
   "source": [
    "df1[\"total_money_raised\"]=df1[\"total_money_raised\"].apply(cambiar)"
   ]
  },
  {
   "cell_type": "code",
   "execution_count": 11,
   "metadata": {},
   "outputs": [],
   "source": [
    "def getFirst(data):\n",
    "    data = data['offices']\n",
    "    principal = None\n",
    "    if data[0]['latitude'] and data[0]['longitude']:\n",
    "        principal = {\n",
    "            \"type\":\"Point\",\n",
    "            \"coordinates\":[data[0]['longitude'], data[0]['latitude']]}\n",
    "\n",
    "    return {\n",
    "        \"totalOffices\": len(data),\n",
    "        \"lat\": data[0]['latitude'],\n",
    "        \"lng\": data[0]['longitude'],\n",
    "        \"oficina_principal\": principal}"
   ]
  },
  {
   "cell_type": "code",
   "execution_count": 12,
   "metadata": {},
   "outputs": [
    {
     "data": {
      "text/html": [
       "<div>\n",
       "<style scoped>\n",
       "    .dataframe tbody tr th:only-of-type {\n",
       "        vertical-align: middle;\n",
       "    }\n",
       "\n",
       "    .dataframe tbody tr th {\n",
       "        vertical-align: top;\n",
       "    }\n",
       "\n",
       "    .dataframe thead th {\n",
       "        text-align: right;\n",
       "    }\n",
       "</style>\n",
       "<table border=\"1\" class=\"dataframe\">\n",
       "  <thead>\n",
       "    <tr style=\"text-align: right;\">\n",
       "      <th></th>\n",
       "      <th>name</th>\n",
       "      <th>lng</th>\n",
       "      <th>lat</th>\n",
       "      <th>oficina_principal</th>\n",
       "      <th>totalOffices</th>\n",
       "      <th>category_code</th>\n",
       "      <th>number_of_employees</th>\n",
       "      <th>founded_year</th>\n",
       "      <th>total_money_raised</th>\n",
       "      <th>ciudad</th>\n",
       "    </tr>\n",
       "  </thead>\n",
       "  <tbody>\n",
       "    <tr>\n",
       "      <th>3</th>\n",
       "      <td>Scribd</td>\n",
       "      <td>-122.404052</td>\n",
       "      <td>37.789634</td>\n",
       "      <td>{'type': 'Point', 'coordinates': [-122.404052,...</td>\n",
       "      <td>1</td>\n",
       "      <td>news</td>\n",
       "      <td>50</td>\n",
       "      <td>2007.0</td>\n",
       "      <td>2.580000e+07</td>\n",
       "      <td>San Francisco</td>\n",
       "    </tr>\n",
       "    <tr>\n",
       "      <th>5</th>\n",
       "      <td>Joost</td>\n",
       "      <td>-74.009447</td>\n",
       "      <td>40.746497</td>\n",
       "      <td>{'type': 'Point', 'coordinates': [-74.0094471,...</td>\n",
       "      <td>1</td>\n",
       "      <td>games_video</td>\n",
       "      <td>0</td>\n",
       "      <td>2006.0</td>\n",
       "      <td>4.500000e+07</td>\n",
       "      <td>New York</td>\n",
       "    </tr>\n",
       "    <tr>\n",
       "      <th>6</th>\n",
       "      <td>Twitter</td>\n",
       "      <td>-122.416924</td>\n",
       "      <td>37.776805</td>\n",
       "      <td>{'type': 'Point', 'coordinates': [-122.4169244...</td>\n",
       "      <td>1</td>\n",
       "      <td>social</td>\n",
       "      <td>1300</td>\n",
       "      <td>2006.0</td>\n",
       "      <td>1.160000e+09</td>\n",
       "      <td>San Francisco</td>\n",
       "    </tr>\n",
       "    <tr>\n",
       "      <th>10</th>\n",
       "      <td>Powerset</td>\n",
       "      <td>-122.395289</td>\n",
       "      <td>37.778613</td>\n",
       "      <td>{'type': 'Point', 'coordinates': [-122.395289,...</td>\n",
       "      <td>1</td>\n",
       "      <td>search</td>\n",
       "      <td>60</td>\n",
       "      <td>2006.0</td>\n",
       "      <td>2.250000e+07</td>\n",
       "      <td>San Francisco</td>\n",
       "    </tr>\n",
       "    <tr>\n",
       "      <th>13</th>\n",
       "      <td>Kyte</td>\n",
       "      <td>-122.409173</td>\n",
       "      <td>37.788482</td>\n",
       "      <td>{'type': 'Point', 'coordinates': [-122.409173,...</td>\n",
       "      <td>1</td>\n",
       "      <td>games_video</td>\n",
       "      <td>40</td>\n",
       "      <td>2006.0</td>\n",
       "      <td>2.340000e+07</td>\n",
       "      <td>San Francisco</td>\n",
       "    </tr>\n",
       "  </tbody>\n",
       "</table>\n",
       "</div>"
      ],
      "text/plain": [
       "        name         lng        lat  \\\n",
       "3     Scribd -122.404052  37.789634   \n",
       "5      Joost  -74.009447  40.746497   \n",
       "6    Twitter -122.416924  37.776805   \n",
       "10  Powerset -122.395289  37.778613   \n",
       "13      Kyte -122.409173  37.788482   \n",
       "\n",
       "                                    oficina_principal  totalOffices  \\\n",
       "3   {'type': 'Point', 'coordinates': [-122.404052,...             1   \n",
       "5   {'type': 'Point', 'coordinates': [-74.0094471,...             1   \n",
       "6   {'type': 'Point', 'coordinates': [-122.4169244...             1   \n",
       "10  {'type': 'Point', 'coordinates': [-122.395289,...             1   \n",
       "13  {'type': 'Point', 'coordinates': [-122.409173,...             1   \n",
       "\n",
       "   category_code  number_of_employees  founded_year  total_money_raised  \\\n",
       "3           news                   50        2007.0        2.580000e+07   \n",
       "5    games_video                    0        2006.0        4.500000e+07   \n",
       "6         social                 1300        2006.0        1.160000e+09   \n",
       "10        search                   60        2006.0        2.250000e+07   \n",
       "13   games_video                   40        2006.0        2.340000e+07   \n",
       "\n",
       "           ciudad  \n",
       "3   San Francisco  \n",
       "5        New York  \n",
       "6   San Francisco  \n",
       "10  San Francisco  \n",
       "13  San Francisco  "
      ]
     },
     "execution_count": 12,
     "metadata": {},
     "output_type": "execute_result"
    }
   ],
   "source": [
    "first_office = df1[[\"offices\"]].apply(getFirst, result_type=\"expand\", axis=1)\n",
    "df_clean = pd.concat([df1,first_office], axis=1)[[\"name\",\"lng\",\"lat\", \"oficina_principal\",\"totalOffices\", \"category_code\", \"number_of_employees\", \"founded_year\", \"total_money_raised\", \"ciudad\"]]\n",
    "df_clean.to_json('limpio.json', orient=\"records\")\n",
    "df_clean.to_csv('limpio.csv')\n",
    "oficinas=df_clean.copy()\n",
    "oficinas=oficinas[(oficinas[\"total_money_raised\"]>1000000) & (oficinas[\"founded_year\"]>2005)]\n",
    "lista_paises=list(oficinas.ciudad.value_counts().head(20).index)\n",
    "df20=oficinas[oficinas[\"ciudad\"].isin(lista_paises)]\n",
    "df20.to_json('mirar.json', orient=\"records\")\n",
    "df20.head()"
   ]
  },
  {
   "cell_type": "code",
   "execution_count": 35,
   "metadata": {},
   "outputs": [
    {
     "data": {
      "text/html": [
       "<div style=\"width:100%;\"><div style=\"position:relative;width:100%;height:0;padding-bottom:60%;\"><iframe src=\"data:text/html;charset=utf-8;base64,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\" style=\"position:absolute;width:100%;height:100%;left:0;top:0;border:none !important;\" allowfullscreen webkitallowfullscreen mozallowfullscreen></iframe></div></div>"
      ],
      "text/plain": [
       "<folium.folium.Map at 0x11fd9b748>"
      ]
     },
     "execution_count": 35,
     "metadata": {},
     "output_type": "execute_result"
    }
   ],
   "source": [
    "ma = folium.Map([38, -97], zoom_start=4)\n",
    "stationArr = df20[['lat', 'lng']].values\n",
    "ma.add_child(plugins.HeatMap(stationArr, radius=15))\n",
    "ma"
   ]
  },
  {
   "cell_type": "code",
   "execution_count": 87,
   "metadata": {
    "scrolled": true
   },
   "outputs": [
    {
     "data": {
      "image/png": "[encoded data removed]",
      "text/plain": [
       "<Figure size 1584x576 with 1 Axes>"
      ]
     },
     "metadata": {
      "needs_background": "light"
     },
     "output_type": "display_data"
    }
   ],
   "source": [
    "def calcMedia(c):\n",
    "    bd = oficinas[oficinas[\"ciudad\"]==c]\n",
    "    contador=bd.ciudad.count()\n",
    "    suma=bd.total_money_raised.sum()\n",
    "    media=round(suma/contador)\n",
    "    return media\n",
    "\n",
    "res=[]\n",
    "for c in lista_paises:\n",
    "    a=calcMedia(c)\n",
    "    res.append(a)\n",
    "    \n",
    "    \n",
    "ciudad_media=pd.DataFrame()\n",
    "ciudad_media[\"ciudad\"]=lista_paises\n",
    "ciudad_media[\"media\"]=res\n",
    "ciudad_media=ciudad_media.sort_values([\"media\"], ascending=False)\n",
    "\n",
    "\n",
    "plt.subplots(figsize=(22,8))\n",
    "sns.barplot(ciudad_media[\"ciudad\"],ciudad_media[\"media\"],palette='GnBu_d')\n",
    "plt.title('Top 15 ciudades por ratio recaudación/num.empresas')\n",
    "plt.savefig('top15ciudades.png')\n",
    "plt.show()"
   ]
  },
  {
   "cell_type": "code",
   "execution_count": 81,
   "metadata": {},
   "outputs": [],
   "source": [
    "def find(ciu, metros,que,tematica):\n",
    "    bd = df20[df20[\"ciudad\"]==ciu]\n",
    "    cd=[]\n",
    "    for c in range(len(bd)):\n",
    "        d={}\n",
    "        coor=bd[\"oficina_principal\"].values[c]['coordinates']\n",
    "        query=db.limpio.find({\"oficina_principal\": {\"$near\": {\"$geometry\": {\"type\":\"Point\",\"coordinates\":coor},\"$maxDistance\": metros,}}})\n",
    "        num = query.count()\n",
    "        coord=query[0][\"oficina_principal\"][\"coordinates\"]\n",
    "        coordenada_buena=[coord[1],coord[0]]\n",
    "        name=query[0][\"name\"]\n",
    "        d.update(numero = num, donde = coordenada_buena, nombre = name)\n",
    "        cd.append(d)\n",
    "        nl = sorted(cd, key=lambda k: k['numero'], reverse=True)[0]\n",
    "        \n",
    "        \n",
    "        #res = req.get(\"https://maps.googleapis.com/maps/api/geocode/json?latlng={}, {}&key={}\".format(nl[\"donde\"][0], nl[\"donde\"][1],g_key)).json()\n",
    "        #dirr= res[\"results\"][1][\"formatted_address\"]\n",
    "        places=req.get(\"https://maps.googleapis.com/maps/api/place/findplacefromtext/json?input=spaces&inputtype=textquery&fields=formatted_address,name,geometry&locationbias=circle:500@{},{}&key={}\".format(nl[\"donde\"][0], nl[\"donde\"][1],g_key)).json()\n",
    "        lal=places[\"candidates\"][0][\"geometry\"][\"location\"][\"lat\"]\n",
    "        lol=places[\"candidates\"][0][\"geometry\"][\"location\"][\"lng\"]\n",
    "        cas=[lal, lol]\n",
    "        lll_name= places[\"candidates\"][0][\"name\"]\n",
    "        \n",
    "        start=req.get(\"https://maps.googleapis.com/maps/api/place/findplacefromtext/json?input={}&inputtype=textquery&fields=formatted_address,name,geometry&locationbias=circle:200@{},{}&key={}\".format(que,nl[\"donde\"][0], nl[\"donde\"][1],g_key)).json()\n",
    "        slal=start[\"candidates\"][0][\"geometry\"][\"location\"][\"lat\"]\n",
    "        slol=start[\"candidates\"][0][\"geometry\"][\"location\"][\"lng\"]\n",
    "        name_place= start[\"candidates\"][0][\"name\"]\n",
    "        scas=[slal, slol]\n",
    "        \n",
    "        meetup=req.get(\"https://api.meetup.com/find/upcoming_events?key={}&sign=true&photo-host=public&lon={}&topic_category={}&page=1&lat={}\".format(m_key,nl[\"donde\"][1],tematica,nl[\"donde\"][0])).json()\n",
    "        meet_name=meetup[\"events\"][0][\"name\"]\n",
    "        meet_corr=[meetup[\"events\"][0][\"venue\"][\"lat\"],meetup[\"events\"][0][\"venue\"][\"lon\"]]\n",
    "        \n",
    "        #hacer mapa con folium\n",
    "        mi = folium.Map(location=nl[\"donde\"], zoom_start=16, control_scale=True)\n",
    "        folium.Marker(location=nl[\"donde\"], popup='Esta es tu oficina ideal. Hay {} empresas en un radio de {} metros'.format(nl[\"numero\"],metros), icon=folium.Icon(color='blue', icon='glyphicon glyphicon-star-empty'),).add_to(mi)\n",
    "        folium.Circle(location=nl[\"donde\"], radius=metros, color='blue', fill=True, fill_color='blue').add_to(mi)\n",
    "        folium.Marker(location=cas, popup=lll_name, icon=folium.Icon(color='darkpurple', icon='home'),).add_to(mi)\n",
    "        folium.Marker(location=scas, popup=name_place, icon=folium.Icon(color='green', icon='glyphicon glyphicon-paperclip'),).add_to(mi)\n",
    "        folium.Marker(location=meet_corr, popup=meet_name, icon=folium.Icon(color='red', icon='glyphicon glyphicon-globe'),).add_to(mi)\n",
    "        minimap = MiniMap()\n",
    "        mi.add_child(minimap)\n",
    "        mi.save('my_office.html')\n",
    "        \n",
    "    return webbrowser.open('file://' + os.path.realpath('my_office.html'))\n",
    "\n",
    "    "
   ]
  },
  {
   "cell_type": "code",
   "execution_count": 83,
   "metadata": {
    "scrolled": false
   },
   "outputs": [
    {
     "name": "stderr",
     "output_type": "stream",
     "text": [
      "/usr/local/Cellar/ipython/7.3.0/libexec/vendor/lib/python3.7/site-packages/ipykernel_launcher.py:8: DeprecationWarning: count is deprecated. Use Collection.count_documents instead.\n",
      "  \n"
     ]
    },
    {
     "data": {
      "text/plain": [
       "True"
      ]
     },
     "execution_count": 83,
     "metadata": {},
     "output_type": "execute_result"
    }
   ],
   "source": [
    "find(\"San Francisco\", 500,\"Starbucks\", \"design\")"
   ]
  },
  {
   "cell_type": "code",
   "execution_count": null,
   "metadata": {},
   "outputs": [],
   "source": []
  }
 ],
 "metadata": {
  "kernelspec": {
   "display_name": "Python 3",
   "language": "python",
   "name": "python3"
  },
  "language_info": {
   "codemirror_mode": {
    "name": "ipython",
    "version": 3
   },
   "file_extension": ".py",
   "mimetype": "text/x-python",
   "name": "python",
   "nbconvert_exporter": "python",
   "pygments_lexer": "ipython3",
   "version": "3.7.2"
  }
 },
 "nbformat": 4,
 "nbformat_minor": 2
}
