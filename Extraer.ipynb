{
 "cells": [
  {
   "cell_type": "code",
   "execution_count": 1,
   "metadata": {},
   "outputs": [],
   "source": [
    "# https://api.mongodb.com/python/current/tutorial.html\n",
    "import pprint\n",
    "from pymongo import MongoClient\n",
    "import pandas as pd\n",
    "import requests as req \n",
    "import json\n",
    "import math\n",
    "import re\n",
    "import folium\n",
    "from folium import plugins\n",
    "import os\n",
    "from dotenv import load_dotenv\n",
    "load_dotenv()\n",
    "import matplotlib.pyplot as plt\n",
    "import seaborn as sns\n",
    "\n",
    "api_key = os.environ[\"key\"]   \n",
    "\n",
    "client = MongoClient('mongodb://localhost:27017/')\n",
    "db = client.ejercicio"
   ]
  },
  {
   "cell_type": "code",
   "execution_count": 2,
   "metadata": {},
   "outputs": [],
   "source": [
    "# {$and:[{deadpooled_year:null}, {number_of_employees:{$ne:null}}, {\"offices.latitude\":{$ne:null}}, {\"offices.latitude\":{$exists:true}}]}"
   ]
  },
  {
   "cell_type": "code",
   "execution_count": 3,
   "metadata": {},
   "outputs": [],
   "source": [
    "empresas= db.companhias.find({\"$and\":[{\"deadpooled_year\":None}, {\"number_of_employees\":{\"$ne\":None}},{\"total_money_raised\":{\"$ne\":None}}, {\"offices.latitude\":{\"$ne\":None}}, {\"offices.latitude\":{\"$exists\":\"true\"}}]})"
   ]
  },
  {
   "cell_type": "code",
   "execution_count": 4,
   "metadata": {},
   "outputs": [],
   "source": [
    "df=pd.DataFrame(empresas)[[\"name\",\"category_code\",\"number_of_employees\",\"founded_year\", \"total_money_raised\",\"offices\"]]"
   ]
  },
  {
   "cell_type": "code",
   "execution_count": 5,
   "metadata": {},
   "outputs": [],
   "source": [
    "df1=df.copy()"
   ]
  },
  {
   "cell_type": "code",
   "execution_count": 6,
   "metadata": {},
   "outputs": [],
   "source": [
    "res = req.get(\"https://api.exchangeratesapi.io/latest?base=USD\").json()"
   ]
  },
  {
   "cell_type": "code",
   "execution_count": 7,
   "metadata": {},
   "outputs": [],
   "source": [
    "def cambiar(string):\n",
    "    if string.startswith(\"$\"):\n",
    "        string=string.replace(\"$\",\"\")\n",
    "        if string.endswith(\"M\"):\n",
    "            string=string.replace(\"M\",\"\")\n",
    "            string= float(string)*1000000\n",
    "        elif string.endswith(\"k\"):\n",
    "            string=string.replace(\"k\",\"\")\n",
    "            string= float(string)*1000\n",
    "        elif string.endswith(\"B\"):\n",
    "            string=string.replace(\"B\",\"\")\n",
    "            string= float(string)*1000000000\n",
    "        else:\n",
    "            string=float(string)\n",
    "    \n",
    "    elif string.startswith(\"€\"):\n",
    "        string=string.replace(\"€\",\"\")\n",
    "        if string.endswith(\"M\"):\n",
    "            string=string.replace(\"M\",\"\")\n",
    "            string= (float(string)*1000000)/res[\"rates\"][\"EUR\"]\n",
    "        elif string.endswith(\"k\"):\n",
    "            string=string.replace(\"k\",\"\")\n",
    "            string= (float(string)*1000)/res[\"rates\"][\"EUR\"]\n",
    "        elif string.endswith(\"B\"):\n",
    "            string=string.replace(\"B\",\"\")\n",
    "            string= (float(string)*1000000000)/res[\"rates\"][\"EUR\"]\n",
    "        else:\n",
    "            string=float(string)\n",
    "            \n",
    "    elif string.startswith(\"£\"):\n",
    "        string=string.replace(\"£\",\"\")\n",
    "        if string.endswith(\"M\"):\n",
    "            string=string.replace(\"M\",\"\")\n",
    "            string= (float(string)*1000000)/res[\"rates\"][\"GBP\"]\n",
    "        elif string.endswith(\"k\"):\n",
    "            string=string.replace(\"k\",\"\")\n",
    "            string= (float(string)*1000)/res[\"rates\"][\"GBP\"]\n",
    "        elif string.endswith(\"B\"):\n",
    "            string=string.replace(\"B\",\"\")\n",
    "            string= (float(string)*1000000000)/res[\"rates\"][\"GBP\"]\n",
    "        else:\n",
    "            string=float(string)\n",
    "\n",
    "    elif string.startswith(\"¥\"):\n",
    "        string=string.replace(\"¥\",\"\")\n",
    "        if string.endswith(\"M\"):\n",
    "            string=string.replace(\"M\",\"\")\n",
    "            string= (float(string)*1000000)/res[\"rates\"][\"JPY\"]\n",
    "        elif string.endswith(\"k\"):\n",
    "            string=string.replace(\"k\",\"\")\n",
    "            string= (float(string)*1000)/res[\"rates\"][\"JPY\"]\n",
    "        elif string.endswith(\"B\"):\n",
    "            string=string.replace(\"B\",\"\")\n",
    "            string= (float(string)*1000000000)/res[\"rates\"][\"JPY\"]\n",
    "        else:\n",
    "            string=float(string)\n",
    "      \n",
    "    elif string.startswith(\"C$\"):\n",
    "        string=string.replace(\"C$\",\"\")\n",
    "        if string.endswith(\"M\"):\n",
    "            string=string.replace(\"M\",\"\")\n",
    "            string= (float(string)*1000000)/res[\"rates\"][\"CAD\"]\n",
    "        elif string.endswith(\"k\"):\n",
    "            string=string.replace(\"k\",\"\")\n",
    "            string= (float(string)*1000)/res[\"rates\"][\"CAD\"]\n",
    "        elif string.endswith(\"B\"):\n",
    "            string=string.replace(\"B\",\"\")\n",
    "            string= (float(string)*1000000000)/res[\"rates\"][\"CAD\"]\n",
    "        else:\n",
    "            string=float(string)\n",
    "            \n",
    "    elif string.startswith(\"kr\"):\n",
    "        string=string.replace(\"kr\",\"\")\n",
    "        if string.endswith(\"M\"):\n",
    "            string=string.replace(\"M\",\"\")\n",
    "            string= (float(string)*1000000)/res[\"rates\"][\"SEK\"]\n",
    "        elif string.endswith(\"k\"):\n",
    "            string=string.replace(\"k\",\"\")\n",
    "            string= (float(string)*1000)/res[\"rates\"][\"SEK\"]\n",
    "        elif string.endswith(\"B\"):\n",
    "            string=string.replace(\"B\",\"\")\n",
    "            string= (float(string)*1000000000)/res[\"rates\"][\"SEK\"]\n",
    "        else:\n",
    "            string=float(string)\n",
    "        \n",
    "    return string"
   ]
  },
  {
   "cell_type": "code",
   "execution_count": 8,
   "metadata": {},
   "outputs": [],
   "source": [
    "lst=[]\n",
    "for a in range(len(df1)):\n",
    "    lst.append(df1[\"offices\"][a][0][\"city\"])\n",
    "df1[\"ciudad\"]=lst"
   ]
  },
  {
   "cell_type": "code",
   "execution_count": 9,
   "metadata": {},
   "outputs": [],
   "source": [
    "df1[\"total_money_raised\"]=df1[\"total_money_raised\"].apply(cambiar)"
   ]
  },
  {
   "cell_type": "code",
   "execution_count": 10,
   "metadata": {},
   "outputs": [],
   "source": [
    "def getFirst(data):\n",
    "    data = data['offices']\n",
    "    principal = None\n",
    "    if data[0]['latitude'] and data[0]['longitude']:\n",
    "        principal = {\n",
    "            \"type\":\"Point\",\n",
    "            \"coordinates\":[data[0]['longitude'], data[0]['latitude']]}\n",
    "\n",
    "    return {\n",
    "        \"totalOffices\": len(data),\n",
    "        \"lat\": data[0]['latitude'],\n",
    "        \"lng\": data[0]['longitude'],\n",
    "        \"oficina_principal\": principal}"
   ]
  },
  {
   "cell_type": "code",
   "execution_count": 11,
   "metadata": {},
   "outputs": [],
   "source": [
    "first_office = df1[[\"offices\"]].apply(getFirst, result_type=\"expand\", axis=1)\n",
    "df_clean = pd.concat([df1,first_office], axis=1)[[\"name\",\"lng\",\"lat\", \"oficina_principal\",\"totalOffices\", \"category_code\", \"number_of_employees\", \"founded_year\", \"total_money_raised\", \"ciudad\"]]\n",
    "df_clean.to_json('limpio.json', orient=\"records\")\n",
    "df_clean.to_csv('limpio.csv')\n",
    "oficinas=df_clean.copy()\n",
    "oficinas=oficinas[(oficinas[\"total_money_raised\"]>1000000) & (oficinas[\"founded_year\"]>2005)]\n",
    "lista_paises=list(oficinas.ciudad.value_counts().head(20).index)\n",
    "df20=oficinas[oficinas[\"ciudad\"].isin(lista_paises)]\n",
    "df20.to_json('mirar.json', orient=\"records\")"
   ]
  },
  {
   "cell_type": "code",
   "execution_count": 24,
   "metadata": {},
   "outputs": [
    {
     "data": {
      "image/png": "[encoded data removed]",
      "text/plain": [
       "<Figure size 1584x576 with 1 Axes>"
      ]
     },
     "metadata": {
      "needs_background": "light"
     },
     "output_type": "display_data"
    }
   ],
   "source": [
    "def calcMedia(c):\n",
    "    bd = oficinas[oficinas[\"ciudad\"]==c]\n",
    "    contador=bd.ciudad.count()\n",
    "    suma=bd.total_money_raised.sum()\n",
    "    media=round(suma/contador)\n",
    "    return media\n",
    "\n",
    "\n",
    "res=[]\n",
    "for c in lista_paises:\n",
    "    a=calcMedia(c)\n",
    "    res.append(a)\n",
    "    \n",
    "    \n",
    "ciudad_media=pd.DataFrame()\n",
    "ciudad_media[\"ciudad\"]=lista_paises\n",
    "ciudad_media[\"media\"]=res\n",
    "ciudad_media=ciudad_media.sort_values([\"media\"], ascending=False)\n",
    "\n",
    "\n",
    "plt.subplots(figsize=(22,8))\n",
    "sns.barplot(ciudad_media[\"ciudad\"],ciudad_media[\"media\"],palette='Blues_d')\n",
    "plt.title('Top 15 ciudades por ratio tmr/num.empresas')\n",
    "plt.show()"
   ]
  },
  {
   "cell_type": "code",
   "execution_count": 20,
   "metadata": {},
   "outputs": [
    {
     "data": {
      "text/html": [
       "<div style=\"width:100%;\"><div style=\"position:relative;width:100%;height:0;padding-bottom:60%;\"><iframe src=\"data:text/html;charset=utf-8;base64,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\" style=\"position:absolute;width:100%;height:100%;left:0;top:0;border:none !important;\" allowfullscreen webkitallowfullscreen mozallowfullscreen></iframe></div></div>"
      ],
      "text/plain": [
       "<folium.folium.Map at 0x12c3bc828>"
      ]
     },
     "execution_count": 20,
     "metadata": {},
     "output_type": "execute_result"
    }
   ],
   "source": [
    "m = folium.Map([37, -72], zoom_start=2)\n",
    "stationArr = df20[['lat', 'lng']].values\n",
    "m.add_child(plugins.HeatMap(stationArr, radius=15))\n",
    "m"
   ]
  },
  {
   "cell_type": "code",
   "execution_count": 21,
   "metadata": {},
   "outputs": [],
   "source": [
    "def find(ciu, metros):\n",
    "    bd = df20[df20[\"ciudad\"]==ciu]\n",
    "    cd=[]\n",
    "    for c in range(len(bd)):\n",
    "        d={}\n",
    "        coor=bd[\"oficina_principal\"].values[c]['coordinates']\n",
    "        query=db.limpio.find({\"oficina_principal\": {\"$near\": {\"$geometry\": {\"type\":\"Point\",\"coordinates\":coor},\"$maxDistance\": metros,}}})\n",
    "        num = query.count()\n",
    "        coord=query[0][\"oficina_principal\"][\"coordinates\"]\n",
    "        coordenada_buena=[coord[1],coord[0]]\n",
    "        name=query[0][\"name\"]\n",
    "        d.update(numero = num, donde = coordenada_buena, nombre = name)\n",
    "        cd.append(d)\n",
    "        nl = sorted(cd, key=lambda k: k['numero'], reverse=True)[0]\n",
    "        #hacer mapa con folium\n",
    "        m = folium.Map(location=nl[\"donde\"], zoom_start=15, control_scale=True)\n",
    "        folium.Marker( location=nl[\"donde\"], popup='Hay {} empresas en un radio de {} metros'.format(nl[\"numero\"],metros), icon=folium.Icon(color='red', icon='ok-sign'),).add_to(m)\n",
    "    return m\n",
    "    "
   ]
  },
  {
   "cell_type": "code",
   "execution_count": 22,
   "metadata": {},
   "outputs": [
    {
     "name": "stderr",
     "output_type": "stream",
     "text": [
      "/usr/local/Cellar/ipython/7.3.0/libexec/vendor/lib/python3.7/site-packages/ipykernel_launcher.py:8: DeprecationWarning: count is deprecated. Use Collection.count_documents instead.\n",
      "  \n"
     ]
    },
    {
     "data": {
      "text/html": [
       "<div style=\"width:100%;\"><div style=\"position:relative;width:100%;height:0;padding-bottom:60%;\"><iframe src=\"data:text/html;charset=utf-8;base64,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\" style=\"position:absolute;width:100%;height:100%;left:0;top:0;border:none !important;\" allowfullscreen webkitallowfullscreen mozallowfullscreen></iframe></div></div>"
      ],
      "text/plain": [
       "<folium.folium.Map at 0x12a983f28>"
      ]
     },
     "execution_count": 22,
     "metadata": {},
     "output_type": "execute_result"
    }
   ],
   "source": [
    "find(\"Paris\", 1000)"
   ]
  },
  {
   "cell_type": "code",
   "execution_count": null,
   "metadata": {},
   "outputs": [],
   "source": []
  }
 ],
 "metadata": {
  "kernelspec": {
   "display_name": "Python 3",
   "language": "python",
   "name": "python3"
  },
  "language_info": {
   "codemirror_mode": {
    "name": "ipython",
    "version": 3
   },
   "file_extension": ".py",
   "mimetype": "text/x-python",
   "name": "python",
   "nbconvert_exporter": "python",
   "pygments_lexer": "ipython3",
   "version": "3.7.2"
  }
 },
 "nbformat": 4,
 "nbformat_minor": 2
}
