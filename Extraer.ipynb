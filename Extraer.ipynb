{
 "cells": [
  {
   "cell_type": "code",
   "execution_count": 1,
   "metadata": {},
   "outputs": [],
   "source": [
    "# https://api.mongodb.com/python/current/tutorial.html\n",
    "import pprint\n",
    "from pymongo import MongoClient\n",
    "import pandas as pd\n",
    "import requests as req \n",
    "import json\n",
    "import math\n",
    "import re\n",
    "import folium\n",
    "from folium import plugins\n",
    "import os\n",
    "from dotenv import load_dotenv\n",
    "load_dotenv()\n",
    "import matplotlib.pyplot as plt\n",
    "import seaborn as sns\n",
    "\n",
    "api_key = os.environ[\"key\"]   \n",
    "g_key = os.environ[\"gkey\"] \n",
    "\n",
    "client = MongoClient('mongodb://localhost:27017/')\n",
    "db = client.ejercicio"
   ]
  },
  {
   "cell_type": "code",
   "execution_count": 2,
   "metadata": {},
   "outputs": [],
   "source": [
    "# {$and:[{deadpooled_year:null}, {number_of_employees:{$ne:null}}, {\"offices.latitude\":{$ne:null}}, {\"offices.latitude\":{$exists:true}}]}"
   ]
  },
  {
   "cell_type": "code",
   "execution_count": 3,
   "metadata": {},
   "outputs": [],
   "source": [
    "empresas= db.companhias.find({\"$and\":[{\"deadpooled_year\":None}, {\"number_of_employees\":{\"$ne\":None}},{\"total_money_raised\":{\"$ne\":None}}, {\"offices.latitude\":{\"$ne\":None}}, {\"offices.latitude\":{\"$exists\":\"true\"}}]})"
   ]
  },
  {
   "cell_type": "code",
   "execution_count": 4,
   "metadata": {},
   "outputs": [],
   "source": [
    "df=pd.DataFrame(empresas)[[\"name\",\"category_code\",\"number_of_employees\",\"founded_year\", \"total_money_raised\",\"offices\"]]"
   ]
  },
  {
   "cell_type": "code",
   "execution_count": 5,
   "metadata": {},
   "outputs": [],
   "source": [
    "df1=df.copy()"
   ]
  },
  {
   "cell_type": "code",
   "execution_count": 6,
   "metadata": {},
   "outputs": [],
   "source": [
    "res = req.get(\"https://api.exchangeratesapi.io/latest?base=USD\").json()"
   ]
  },
  {
   "cell_type": "code",
   "execution_count": 7,
   "metadata": {},
   "outputs": [],
   "source": [
    "def cambiar(string):\n",
    "    if string.startswith(\"$\"):\n",
    "        string=string.replace(\"$\",\"\")\n",
    "        if string.endswith(\"M\"):\n",
    "            string=string.replace(\"M\",\"\")\n",
    "            string= float(string)*1000000\n",
    "        elif string.endswith(\"k\"):\n",
    "            string=string.replace(\"k\",\"\")\n",
    "            string= float(string)*1000\n",
    "        elif string.endswith(\"B\"):\n",
    "            string=string.replace(\"B\",\"\")\n",
    "            string= float(string)*1000000000\n",
    "        else:\n",
    "            string=float(string)\n",
    "    \n",
    "    elif string.startswith(\"€\"):\n",
    "        string=string.replace(\"€\",\"\")\n",
    "        if string.endswith(\"M\"):\n",
    "            string=string.replace(\"M\",\"\")\n",
    "            string= (float(string)*1000000)/res[\"rates\"][\"EUR\"]\n",
    "        elif string.endswith(\"k\"):\n",
    "            string=string.replace(\"k\",\"\")\n",
    "            string= (float(string)*1000)/res[\"rates\"][\"EUR\"]\n",
    "        elif string.endswith(\"B\"):\n",
    "            string=string.replace(\"B\",\"\")\n",
    "            string= (float(string)*1000000000)/res[\"rates\"][\"EUR\"]\n",
    "        else:\n",
    "            string=float(string)\n",
    "            \n",
    "    elif string.startswith(\"£\"):\n",
    "        string=string.replace(\"£\",\"\")\n",
    "        if string.endswith(\"M\"):\n",
    "            string=string.replace(\"M\",\"\")\n",
    "            string= (float(string)*1000000)/res[\"rates\"][\"GBP\"]\n",
    "        elif string.endswith(\"k\"):\n",
    "            string=string.replace(\"k\",\"\")\n",
    "            string= (float(string)*1000)/res[\"rates\"][\"GBP\"]\n",
    "        elif string.endswith(\"B\"):\n",
    "            string=string.replace(\"B\",\"\")\n",
    "            string= (float(string)*1000000000)/res[\"rates\"][\"GBP\"]\n",
    "        else:\n",
    "            string=float(string)\n",
    "\n",
    "    elif string.startswith(\"¥\"):\n",
    "        string=string.replace(\"¥\",\"\")\n",
    "        if string.endswith(\"M\"):\n",
    "            string=string.replace(\"M\",\"\")\n",
    "            string= (float(string)*1000000)/res[\"rates\"][\"JPY\"]\n",
    "        elif string.endswith(\"k\"):\n",
    "            string=string.replace(\"k\",\"\")\n",
    "            string= (float(string)*1000)/res[\"rates\"][\"JPY\"]\n",
    "        elif string.endswith(\"B\"):\n",
    "            string=string.replace(\"B\",\"\")\n",
    "            string= (float(string)*1000000000)/res[\"rates\"][\"JPY\"]\n",
    "        else:\n",
    "            string=float(string)\n",
    "      \n",
    "    elif string.startswith(\"C$\"):\n",
    "        string=string.replace(\"C$\",\"\")\n",
    "        if string.endswith(\"M\"):\n",
    "            string=string.replace(\"M\",\"\")\n",
    "            string= (float(string)*1000000)/res[\"rates\"][\"CAD\"]\n",
    "        elif string.endswith(\"k\"):\n",
    "            string=string.replace(\"k\",\"\")\n",
    "            string= (float(string)*1000)/res[\"rates\"][\"CAD\"]\n",
    "        elif string.endswith(\"B\"):\n",
    "            string=string.replace(\"B\",\"\")\n",
    "            string= (float(string)*1000000000)/res[\"rates\"][\"CAD\"]\n",
    "        else:\n",
    "            string=float(string)\n",
    "            \n",
    "    elif string.startswith(\"kr\"):\n",
    "        string=string.replace(\"kr\",\"\")\n",
    "        if string.endswith(\"M\"):\n",
    "            string=string.replace(\"M\",\"\")\n",
    "            string= (float(string)*1000000)/res[\"rates\"][\"SEK\"]\n",
    "        elif string.endswith(\"k\"):\n",
    "            string=string.replace(\"k\",\"\")\n",
    "            string= (float(string)*1000)/res[\"rates\"][\"SEK\"]\n",
    "        elif string.endswith(\"B\"):\n",
    "            string=string.replace(\"B\",\"\")\n",
    "            string= (float(string)*1000000000)/res[\"rates\"][\"SEK\"]\n",
    "        else:\n",
    "            string=float(string)\n",
    "        \n",
    "    return string"
   ]
  },
  {
   "cell_type": "code",
   "execution_count": 8,
   "metadata": {},
   "outputs": [],
   "source": [
    "lst=[]\n",
    "for a in range(len(df1)):\n",
    "    lst.append(df1[\"offices\"][a][0][\"city\"])\n",
    "df1[\"ciudad\"]=lst"
   ]
  },
  {
   "cell_type": "code",
   "execution_count": 9,
   "metadata": {},
   "outputs": [],
   "source": [
    "df1[\"total_money_raised\"]=df1[\"total_money_raised\"].apply(cambiar)"
   ]
  },
  {
   "cell_type": "code",
   "execution_count": 10,
   "metadata": {},
   "outputs": [],
   "source": [
    "def getFirst(data):\n",
    "    data = data['offices']\n",
    "    principal = None\n",
    "    if data[0]['latitude'] and data[0]['longitude']:\n",
    "        principal = {\n",
    "            \"type\":\"Point\",\n",
    "            \"coordinates\":[data[0]['longitude'], data[0]['latitude']]}\n",
    "\n",
    "    return {\n",
    "        \"totalOffices\": len(data),\n",
    "        \"lat\": data[0]['latitude'],\n",
    "        \"lng\": data[0]['longitude'],\n",
    "        \"oficina_principal\": principal}"
   ]
  },
  {
   "cell_type": "code",
   "execution_count": 11,
   "metadata": {},
   "outputs": [
    {
     "data": {
      "text/html": [
       "<div>\n",
       "<style scoped>\n",
       "    .dataframe tbody tr th:only-of-type {\n",
       "        vertical-align: middle;\n",
       "    }\n",
       "\n",
       "    .dataframe tbody tr th {\n",
       "        vertical-align: top;\n",
       "    }\n",
       "\n",
       "    .dataframe thead th {\n",
       "        text-align: right;\n",
       "    }\n",
       "</style>\n",
       "<table border=\"1\" class=\"dataframe\">\n",
       "  <thead>\n",
       "    <tr style=\"text-align: right;\">\n",
       "      <th></th>\n",
       "      <th>name</th>\n",
       "      <th>lng</th>\n",
       "      <th>lat</th>\n",
       "      <th>oficina_principal</th>\n",
       "      <th>totalOffices</th>\n",
       "      <th>category_code</th>\n",
       "      <th>number_of_employees</th>\n",
       "      <th>founded_year</th>\n",
       "      <th>total_money_raised</th>\n",
       "      <th>ciudad</th>\n",
       "    </tr>\n",
       "  </thead>\n",
       "  <tbody>\n",
       "    <tr>\n",
       "      <th>3</th>\n",
       "      <td>Scribd</td>\n",
       "      <td>-122.404052</td>\n",
       "      <td>37.789634</td>\n",
       "      <td>{'type': 'Point', 'coordinates': [-122.404052,...</td>\n",
       "      <td>1</td>\n",
       "      <td>news</td>\n",
       "      <td>50</td>\n",
       "      <td>2007.0</td>\n",
       "      <td>2.580000e+07</td>\n",
       "      <td>San Francisco</td>\n",
       "    </tr>\n",
       "    <tr>\n",
       "      <th>5</th>\n",
       "      <td>Joost</td>\n",
       "      <td>-74.009447</td>\n",
       "      <td>40.746497</td>\n",
       "      <td>{'type': 'Point', 'coordinates': [-74.0094471,...</td>\n",
       "      <td>1</td>\n",
       "      <td>games_video</td>\n",
       "      <td>0</td>\n",
       "      <td>2006.0</td>\n",
       "      <td>4.500000e+07</td>\n",
       "      <td>New York</td>\n",
       "    </tr>\n",
       "    <tr>\n",
       "      <th>6</th>\n",
       "      <td>Twitter</td>\n",
       "      <td>-122.416924</td>\n",
       "      <td>37.776805</td>\n",
       "      <td>{'type': 'Point', 'coordinates': [-122.4169244...</td>\n",
       "      <td>1</td>\n",
       "      <td>social</td>\n",
       "      <td>1300</td>\n",
       "      <td>2006.0</td>\n",
       "      <td>1.160000e+09</td>\n",
       "      <td>San Francisco</td>\n",
       "    </tr>\n",
       "    <tr>\n",
       "      <th>10</th>\n",
       "      <td>Powerset</td>\n",
       "      <td>-122.395289</td>\n",
       "      <td>37.778613</td>\n",
       "      <td>{'type': 'Point', 'coordinates': [-122.395289,...</td>\n",
       "      <td>1</td>\n",
       "      <td>search</td>\n",
       "      <td>60</td>\n",
       "      <td>2006.0</td>\n",
       "      <td>2.250000e+07</td>\n",
       "      <td>San Francisco</td>\n",
       "    </tr>\n",
       "    <tr>\n",
       "      <th>13</th>\n",
       "      <td>Kyte</td>\n",
       "      <td>-122.409173</td>\n",
       "      <td>37.788482</td>\n",
       "      <td>{'type': 'Point', 'coordinates': [-122.409173,...</td>\n",
       "      <td>1</td>\n",
       "      <td>games_video</td>\n",
       "      <td>40</td>\n",
       "      <td>2006.0</td>\n",
       "      <td>2.340000e+07</td>\n",
       "      <td>San Francisco</td>\n",
       "    </tr>\n",
       "  </tbody>\n",
       "</table>\n",
       "</div>"
      ],
      "text/plain": [
       "        name         lng        lat  \\\n",
       "3     Scribd -122.404052  37.789634   \n",
       "5      Joost  -74.009447  40.746497   \n",
       "6    Twitter -122.416924  37.776805   \n",
       "10  Powerset -122.395289  37.778613   \n",
       "13      Kyte -122.409173  37.788482   \n",
       "\n",
       "                                    oficina_principal  totalOffices  \\\n",
       "3   {'type': 'Point', 'coordinates': [-122.404052,...             1   \n",
       "5   {'type': 'Point', 'coordinates': [-74.0094471,...             1   \n",
       "6   {'type': 'Point', 'coordinates': [-122.4169244...             1   \n",
       "10  {'type': 'Point', 'coordinates': [-122.395289,...             1   \n",
       "13  {'type': 'Point', 'coordinates': [-122.409173,...             1   \n",
       "\n",
       "   category_code  number_of_employees  founded_year  total_money_raised  \\\n",
       "3           news                   50        2007.0        2.580000e+07   \n",
       "5    games_video                    0        2006.0        4.500000e+07   \n",
       "6         social                 1300        2006.0        1.160000e+09   \n",
       "10        search                   60        2006.0        2.250000e+07   \n",
       "13   games_video                   40        2006.0        2.340000e+07   \n",
       "\n",
       "           ciudad  \n",
       "3   San Francisco  \n",
       "5        New York  \n",
       "6   San Francisco  \n",
       "10  San Francisco  \n",
       "13  San Francisco  "
      ]
     },
     "execution_count": 11,
     "metadata": {},
     "output_type": "execute_result"
    }
   ],
   "source": [
    "first_office = df1[[\"offices\"]].apply(getFirst, result_type=\"expand\", axis=1)\n",
    "df_clean = pd.concat([df1,first_office], axis=1)[[\"name\",\"lng\",\"lat\", \"oficina_principal\",\"totalOffices\", \"category_code\", \"number_of_employees\", \"founded_year\", \"total_money_raised\", \"ciudad\"]]\n",
    "df_clean.to_json('limpio.json', orient=\"records\")\n",
    "df_clean.to_csv('limpio.csv')\n",
    "oficinas=df_clean.copy()\n",
    "oficinas=oficinas[(oficinas[\"total_money_raised\"]>1000000) & (oficinas[\"founded_year\"]>2005)]\n",
    "lista_paises=list(oficinas.ciudad.value_counts().head(20).index)\n",
    "df20=oficinas[oficinas[\"ciudad\"].isin(lista_paises)]\n",
    "df20.to_json('mirar.json', orient=\"records\")\n",
    "df20.head()"
   ]
  },
  {
   "cell_type": "code",
   "execution_count": 13,
   "metadata": {},
   "outputs": [
    {
     "data": {
      "text/html": [
       "<div style=\"width:100%;\"><div style=\"position:relative;width:100%;height:0;padding-bottom:60%;\"><iframe src=\"data:text/html;charset=utf-8;base64,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\" style=\"position:absolute;width:100%;height:100%;left:0;top:0;border:none !important;\" allowfullscreen webkitallowfullscreen mozallowfullscreen></iframe></div></div>"
      ],
      "text/plain": [
       "<folium.folium.Map at 0x118dce518>"
      ]
     },
     "execution_count": 13,
     "metadata": {},
     "output_type": "execute_result"
    }
   ],
   "source": [
    "ma = folium.Map([38, -97], zoom_start=4)\n",
    "stationArr = df20[['lat', 'lng']].values\n",
    "ma.add_child(plugins.HeatMap(stationArr, radius=15))\n",
    "ma"
   ]
  },
  {
   "cell_type": "code",
   "execution_count": 14,
   "metadata": {
    "scrolled": true
   },
   "outputs": [
    {
     "data": {
      "image/png": "[encoded data removed]",
      "text/plain": [
       "<Figure size 1584x576 with 1 Axes>"
      ]
     },
     "metadata": {
      "needs_background": "light"
     },
     "output_type": "display_data"
    }
   ],
   "source": [
    "def calcMedia(c):\n",
    "    bd = oficinas[oficinas[\"ciudad\"]==c]\n",
    "    contador=bd.ciudad.count()\n",
    "    suma=bd.total_money_raised.sum()\n",
    "    media=round(suma/contador)\n",
    "    return media\n",
    "\n",
    "res=[]\n",
    "for c in lista_paises:\n",
    "    a=calcMedia(c)\n",
    "    res.append(a)\n",
    "    \n",
    "    \n",
    "ciudad_media=pd.DataFrame()\n",
    "ciudad_media[\"ciudad\"]=lista_paises\n",
    "ciudad_media[\"media\"]=res\n",
    "ciudad_media=ciudad_media.sort_values([\"media\"], ascending=False)\n",
    "\n",
    "\n",
    "plt.subplots(figsize=(22,8))\n",
    "sns.barplot(ciudad_media[\"ciudad\"],ciudad_media[\"media\"],palette='inferno')\n",
    "plt.title('Top 15 ciudades por ratio tmr/num.empresas')\n",
    "plt.show()"
   ]
  },
  {
   "cell_type": "code",
   "execution_count": 96,
   "metadata": {},
   "outputs": [],
   "source": [
    "def find(ciu, metros,que):\n",
    "    bd = df20[df20[\"ciudad\"]==ciu]\n",
    "    cd=[]\n",
    "    for c in range(len(bd)):\n",
    "        d={}\n",
    "        coor=bd[\"oficina_principal\"].values[c]['coordinates']\n",
    "        query=db.limpio.find({\"oficina_principal\": {\"$near\": {\"$geometry\": {\"type\":\"Point\",\"coordinates\":coor},\"$maxDistance\": metros,}}})\n",
    "        num = query.count()\n",
    "        coord=query[0][\"oficina_principal\"][\"coordinates\"]\n",
    "        coordenada_buena=[coord[1],coord[0]]\n",
    "        name=query[0][\"name\"]\n",
    "        d.update(numero = num, donde = coordenada_buena, nombre = name)\n",
    "        cd.append(d)\n",
    "        nl = sorted(cd, key=lambda k: k['numero'], reverse=True)[0]\n",
    "        \n",
    "        res = req.get(\"https://maps.googleapis.com/maps/api/geocode/json?latlng={}, {}&key={}\".format(nl[\"donde\"][0], nl[\"donde\"][1],g_key)).json()\n",
    "        dirr= res[\"results\"][1][\"formatted_address\"]\n",
    "        places=req.get(\"https://maps.googleapis.com/maps/api/place/findplacefromtext/json?input=spaces&inputtype=textquery&fields=formatted_address,name,geometry&locationbias=circle:500@{},{}&key={}\".format(nl[\"donde\"][0], nl[\"donde\"][1],g_key)).json()\n",
    "        lal=places[\"candidates\"][0][\"geometry\"][\"location\"][\"lat\"]\n",
    "        lol=places[\"candidates\"][0][\"geometry\"][\"location\"][\"lng\"]\n",
    "        cas=[lal, lol]\n",
    "        lll_name= places[\"candidates\"][0][\"name\"]\n",
    "        \n",
    "        start=req.get(\"https://maps.googleapis.com/maps/api/place/findplacefromtext/json?input={}&inputtype=textquery&fields=formatted_address,name,geometry&locationbias=circle:200@{},{}&key={}\".format(que,nl[\"donde\"][0], nl[\"donde\"][1],g_key)).json()\n",
    "        slal=start[\"candidates\"][0][\"geometry\"][\"location\"][\"lat\"]\n",
    "        slol=start[\"candidates\"][0][\"geometry\"][\"location\"][\"lng\"]\n",
    "        scas=[slal, slol]\n",
    "        \n",
    "        \n",
    "        #hacer mapa con folium\n",
    "        mi = folium.Map(location=nl[\"donde\"], zoom_start=15, control_scale=True)\n",
    "        folium.Marker(location=nl[\"donde\"], popup='{}: Hay {} empresas en un radio de {} metros'.format(dirr,nl[\"numero\"],metros), icon=folium.Icon(color='blue', icon='home'),).add_to(mi)\n",
    "        folium.Circle(location=nl[\"donde\"], radius=nl[\"numero\"]*30, color='blue', fill=True, fill_color='blue').add_to(mi)\n",
    "        folium.Marker(location=cas, popup=lll_name, icon=folium.Icon(color='darkpurple', icon='home'),).add_to(mi)\n",
    "        folium.Marker(location=scas, popup=\"{}\".format(que), icon=folium.Icon(color='green', icon='home'),).add_to(mi)\n",
    "\n",
    "\n",
    "        mi.save('index.html')\n",
    "    return mi\n",
    "    "
   ]
  },
  {
   "cell_type": "code",
   "execution_count": 97,
   "metadata": {
    "scrolled": true
   },
   "outputs": [
    {
     "name": "stderr",
     "output_type": "stream",
     "text": [
      "/usr/local/Cellar/ipython/7.3.0/libexec/vendor/lib/python3.7/site-packages/ipykernel_launcher.py:8: DeprecationWarning: count is deprecated. Use Collection.count_documents instead.\n",
      "  \n"
     ]
    },
    {
     "data": {
      "text/html": [
       "<div style=\"width:100%;\"><div style=\"position:relative;width:100%;height:0;padding-bottom:60%;\"><iframe src=\"data:text/html;charset=utf-8;base64,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\" style=\"position:absolute;width:100%;height:100%;left:0;top:0;border:none !important;\" allowfullscreen webkitallowfullscreen mozallowfullscreen></iframe></div></div>"
      ],
      "text/plain": [
       "<folium.folium.Map at 0x1196e1a58>"
      ]
     },
     "execution_count": 97,
     "metadata": {},
     "output_type": "execute_result"
    }
   ],
   "source": [
    "find(\"San Francisco\", 1000,\"startbucks\")"
   ]
  },
  {
   "cell_type": "code",
   "execution_count": null,
   "metadata": {},
   "outputs": [],
   "source": []
  },
  {
   "cell_type": "code",
   "execution_count": null,
   "metadata": {},
   "outputs": [],
   "source": []
  }
 ],
 "metadata": {
  "kernelspec": {
   "display_name": "Python 3",
   "language": "python",
   "name": "python3"
  },
  "language_info": {
   "codemirror_mode": {
    "name": "ipython",
    "version": 3
   },
   "file_extension": ".py",
   "mimetype": "text/x-python",
   "name": "python",
   "nbconvert_exporter": "python",
   "pygments_lexer": "ipython3",
   "version": "3.7.2"
  }
 },
 "nbformat": 4,
 "nbformat_minor": 2
}
