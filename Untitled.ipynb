{
 "cells": [
  {
   "cell_type": "code",
   "execution_count": 1,
   "metadata": {},
   "outputs": [],
   "source": [
    "# https://api.mongodb.com/python/current/tutorial.html\n",
    "import pprint\n",
    "from pymongo import MongoClient\n",
    "import pandas as pd\n",
    "import requests as req \n",
    "import json\n",
    "import math\n",
    "\n",
    "client = MongoClient('mongodb://localhost:27017/')\n",
    "db = client.ejercicio"
   ]
  },
  {
   "cell_type": "code",
   "execution_count": 2,
   "metadata": {},
   "outputs": [],
   "source": [
    "# {$and:[{deadpooled_year:null}, {number_of_employees:{$ne:null}}, {\"offices.latitude\":{$ne:null}}, {\"offices.latitude\":{$exists:true}}]}"
   ]
  },
  {
   "cell_type": "code",
   "execution_count": 3,
   "metadata": {},
   "outputs": [],
   "source": [
    "empresas= db.companhias.find({\"$and\":[{\"deadpooled_year\":None}, {\"number_of_employees\":{\"$ne\":None}}, {\"offices.latitude\":{\"$ne\":None}}, {\"offices.latitude\":{\"$exists\":\"true\"}}]})"
   ]
  },
  {
   "cell_type": "code",
   "execution_count": 4,
   "metadata": {},
   "outputs": [],
   "source": [
    "df=pd.DataFrame(empresas)[[\"name\",\"category_code\",\"number_of_employees\",\"founded_year\", \"total_money_raised\",\"offices\"]]"
   ]
  },
  {
   "cell_type": "code",
   "execution_count": 5,
   "metadata": {},
   "outputs": [
    {
     "data": {
      "text/plain": [
       "(4839, 6)"
      ]
     },
     "execution_count": 5,
     "metadata": {},
     "output_type": "execute_result"
    }
   ],
   "source": [
    "df.shape"
   ]
  },
  {
   "cell_type": "code",
   "execution_count": 6,
   "metadata": {},
   "outputs": [
    {
     "data": {
      "text/html": [
       "<div>\n",
       "<style scoped>\n",
       "    .dataframe tbody tr th:only-of-type {\n",
       "        vertical-align: middle;\n",
       "    }\n",
       "\n",
       "    .dataframe tbody tr th {\n",
       "        vertical-align: top;\n",
       "    }\n",
       "\n",
       "    .dataframe thead th {\n",
       "        text-align: right;\n",
       "    }\n",
       "</style>\n",
       "<table border=\"1\" class=\"dataframe\">\n",
       "  <thead>\n",
       "    <tr style=\"text-align: right;\">\n",
       "      <th></th>\n",
       "      <th>name</th>\n",
       "      <th>category_code</th>\n",
       "      <th>number_of_employees</th>\n",
       "      <th>founded_year</th>\n",
       "      <th>total_money_raised</th>\n",
       "      <th>offices</th>\n",
       "    </tr>\n",
       "  </thead>\n",
       "  <tbody>\n",
       "    <tr>\n",
       "      <th>0</th>\n",
       "      <td>Digg</td>\n",
       "      <td>news</td>\n",
       "      <td>60</td>\n",
       "      <td>2004.0</td>\n",
       "      <td>$45M</td>\n",
       "      <td>[{'description': None, 'address1': '135 Missis...</td>\n",
       "    </tr>\n",
       "    <tr>\n",
       "      <th>1</th>\n",
       "      <td>Geni</td>\n",
       "      <td>web</td>\n",
       "      <td>18</td>\n",
       "      <td>2006.0</td>\n",
       "      <td>$16.5M</td>\n",
       "      <td>[{'description': 'Headquarters', 'address1': '...</td>\n",
       "    </tr>\n",
       "    <tr>\n",
       "      <th>2</th>\n",
       "      <td>Fox Interactive Media</td>\n",
       "      <td>web</td>\n",
       "      <td>0</td>\n",
       "      <td>1979.0</td>\n",
       "      <td>$0</td>\n",
       "      <td>[{'description': '', 'address1': '407 N Maple ...</td>\n",
       "    </tr>\n",
       "    <tr>\n",
       "      <th>3</th>\n",
       "      <td>Scribd</td>\n",
       "      <td>news</td>\n",
       "      <td>50</td>\n",
       "      <td>2007.0</td>\n",
       "      <td>$25.8M</td>\n",
       "      <td>[{'description': 'HQ', 'address1': '539 Bryant...</td>\n",
       "    </tr>\n",
       "    <tr>\n",
       "      <th>4</th>\n",
       "      <td>MeetMoi</td>\n",
       "      <td>social</td>\n",
       "      <td>15</td>\n",
       "      <td>2007.0</td>\n",
       "      <td>$5.58M</td>\n",
       "      <td>[{'description': None, 'address1': '', 'addres...</td>\n",
       "    </tr>\n",
       "  </tbody>\n",
       "</table>\n",
       "</div>"
      ],
      "text/plain": [
       "                    name category_code  number_of_employees  founded_year  \\\n",
       "0                   Digg          news                   60        2004.0   \n",
       "1                   Geni           web                   18        2006.0   \n",
       "2  Fox Interactive Media           web                    0        1979.0   \n",
       "3                 Scribd          news                   50        2007.0   \n",
       "4                MeetMoi        social                   15        2007.0   \n",
       "\n",
       "  total_money_raised                                            offices  \n",
       "0               $45M  [{'description': None, 'address1': '135 Missis...  \n",
       "1             $16.5M  [{'description': 'Headquarters', 'address1': '...  \n",
       "2                 $0  [{'description': '', 'address1': '407 N Maple ...  \n",
       "3             $25.8M  [{'description': 'HQ', 'address1': '539 Bryant...  \n",
       "4             $5.58M  [{'description': None, 'address1': '', 'addres...  "
      ]
     },
     "execution_count": 6,
     "metadata": {},
     "output_type": "execute_result"
    }
   ],
   "source": [
    "df.head()"
   ]
  },
  {
   "cell_type": "code",
   "execution_count": 7,
   "metadata": {},
   "outputs": [],
   "source": [
    "#df.dtypes"
   ]
  },
  {
   "cell_type": "code",
   "execution_count": 8,
   "metadata": {},
   "outputs": [],
   "source": [
    "res = req.get(\"https://api.exchangeratesapi.io/latest?base=USD\").json()\n",
    "\n"
   ]
  },
  {
   "cell_type": "code",
   "execution_count": 9,
   "metadata": {},
   "outputs": [
    {
     "data": {
      "text/plain": [
       "{'rates': {'CAD': 1.3055728934,\n",
       "  'HKD': 7.8004458315,\n",
       "  'ISK': 126.348640214,\n",
       "  'PHP': 51.3419527419,\n",
       "  'DKK': 6.6545697726,\n",
       "  'HUF': 289.4872938029,\n",
       "  'CZK': 22.7454302274,\n",
       "  'GBP': 0.7991529202,\n",
       "  'RON': 4.2086491306,\n",
       "  'SEK': 9.4492197949,\n",
       "  'IDR': 14110.0044583148,\n",
       "  'INR': 68.5648684797,\n",
       "  'BRL': 3.8120374498,\n",
       "  'RUB': 63.7561301828,\n",
       "  'HRK': 6.5942933571,\n",
       "  'JPY': 108.6045474811,\n",
       "  'THB': 30.7748551048,\n",
       "  'CHF': 0.992153366,\n",
       "  'EUR': 0.8916629514,\n",
       "  'MYR': 4.1405260811,\n",
       "  'BGN': 1.7439144004,\n",
       "  'TRY': 5.7337494427,\n",
       "  'CNY': 6.8812304949,\n",
       "  'NOK': 8.6348640214,\n",
       "  'NZD': 1.5058403923,\n",
       "  'ZAR': 14.1607668301,\n",
       "  'USD': 1.0,\n",
       "  'MXN': 18.9550601872,\n",
       "  'SGD': 1.359518502,\n",
       "  'AUD': 1.4318323674,\n",
       "  'ILS': 3.5751226037,\n",
       "  'KRW': 1178.8408381632,\n",
       "  'PLN': 3.7922425323},\n",
       " 'base': 'USD',\n",
       " 'date': '2019-07-08'}"
      ]
     },
     "execution_count": 9,
     "metadata": {},
     "output_type": "execute_result"
    }
   ],
   "source": [
    "res"
   ]
  },
  {
   "cell_type": "code",
   "execution_count": 10,
   "metadata": {},
   "outputs": [
    {
     "data": {
      "text/plain": [
       "0.8916629514"
      ]
     },
     "execution_count": 10,
     "metadata": {},
     "output_type": "execute_result"
    }
   ],
   "source": [
    "res[\"rates\"][\"EUR\"]"
   ]
  },
  {
   "cell_type": "code",
   "execution_count": 11,
   "metadata": {},
   "outputs": [],
   "source": [
    "df1=df.copy()"
   ]
  },
  {
   "cell_type": "code",
   "execution_count": 17,
   "metadata": {},
   "outputs": [],
   "source": [
    "df1[\"total_money_raised\"]=df1[\"total_money_raised\"].str.replace(\"M\",\"000000\")\n",
    "df1[\"total_money_raised\"]=df1[\"total_money_raised\"].str.replace(\"k\",\"000\")\n",
    "df1[\"total_money_raised\"]=df1[\"total_money_raised\"].str.replace(\"B\",\"000000000\")\n",
    "df1[\"total_money_raised\"]=df1[\"total_money_raised\"].str.replace(\".\",\"\")\n",
    "df1[\"total_money_raised\"]=df1[\"total_money_raised\"].str.replace(\"$\",\"\")\n",
    "df1[\"total_money_raised\"]=df1[\"total_money_raised\"].str.replace(\"r\",\"\")"
   ]
  },
  {
   "cell_type": "code",
   "execution_count": 18,
   "metadata": {},
   "outputs": [],
   "source": [
    "def cambiar(string):\n",
    "    if string.startswith(\"€\"):\n",
    "        string=string.replace(\"€\",\"\")\n",
    "        string= int(string)*res[\"rates\"][\"EUR\"]\n",
    "    elif string.startswith(\"£\"):\n",
    "        string=string.replace(\"£\",\"\")\n",
    "        string= int(string)*res[\"rates\"][\"GBP\"]\n",
    "    elif string.startswith(\"¥\"):\n",
    "        string=string.replace(\"¥\",\"\")\n",
    "        string= int(string)*res[\"rates\"][\"JPY\"]\n",
    "    elif string.startswith(\"C\"):\n",
    "        string=string.replace(\"C\",\"\")\n",
    "        string= int(string)*res[\"rates\"][\"CAD\"]\n",
    "    return string"
   ]
  },
  {
   "cell_type": "code",
   "execution_count": 19,
   "metadata": {},
   "outputs": [
    {
     "ename": "AttributeError",
     "evalue": "'float' object has no attribute 'startswith'",
     "output_type": "error",
     "traceback": [
      "\u001b[0;31m---------------------------------------------------------------------------\u001b[0m",
      "\u001b[0;31mAttributeError\u001b[0m                            Traceback (most recent call last)",
      "\u001b[0;32m<ipython-input-19-ce66486f61a5>\u001b[0m in \u001b[0;36m<module>\u001b[0;34m\u001b[0m\n\u001b[0;32m----> 1\u001b[0;31m \u001b[0mdf1\u001b[0m\u001b[0;34m[\u001b[0m\u001b[0;34m\"total_money_raised\"\u001b[0m\u001b[0;34m]\u001b[0m\u001b[0;34m=\u001b[0m\u001b[0mdf1\u001b[0m\u001b[0;34m[\u001b[0m\u001b[0;34m\"total_money_raised\"\u001b[0m\u001b[0;34m]\u001b[0m\u001b[0;34m.\u001b[0m\u001b[0mapply\u001b[0m\u001b[0;34m(\u001b[0m\u001b[0mcambiar\u001b[0m\u001b[0;34m)\u001b[0m\u001b[0;34m\u001b[0m\u001b[0;34m\u001b[0m\u001b[0m\n\u001b[0m",
      "\u001b[0;32m/usr/local/lib/python3.7/site-packages/pandas/core/series.py\u001b[0m in \u001b[0;36mapply\u001b[0;34m(self, func, convert_dtype, args, **kwds)\u001b[0m\n\u001b[1;32m   3589\u001b[0m             \u001b[0;32melse\u001b[0m\u001b[0;34m:\u001b[0m\u001b[0;34m\u001b[0m\u001b[0;34m\u001b[0m\u001b[0m\n\u001b[1;32m   3590\u001b[0m                 \u001b[0mvalues\u001b[0m \u001b[0;34m=\u001b[0m \u001b[0mself\u001b[0m\u001b[0;34m.\u001b[0m\u001b[0mastype\u001b[0m\u001b[0;34m(\u001b[0m\u001b[0mobject\u001b[0m\u001b[0;34m)\u001b[0m\u001b[0;34m.\u001b[0m\u001b[0mvalues\u001b[0m\u001b[0;34m\u001b[0m\u001b[0;34m\u001b[0m\u001b[0m\n\u001b[0;32m-> 3591\u001b[0;31m                 \u001b[0mmapped\u001b[0m \u001b[0;34m=\u001b[0m \u001b[0mlib\u001b[0m\u001b[0;34m.\u001b[0m\u001b[0mmap_infer\u001b[0m\u001b[0;34m(\u001b[0m\u001b[0mvalues\u001b[0m\u001b[0;34m,\u001b[0m \u001b[0mf\u001b[0m\u001b[0;34m,\u001b[0m \u001b[0mconvert\u001b[0m\u001b[0;34m=\u001b[0m\u001b[0mconvert_dtype\u001b[0m\u001b[0;34m)\u001b[0m\u001b[0;34m\u001b[0m\u001b[0;34m\u001b[0m\u001b[0m\n\u001b[0m\u001b[1;32m   3592\u001b[0m \u001b[0;34m\u001b[0m\u001b[0m\n\u001b[1;32m   3593\u001b[0m         \u001b[0;32mif\u001b[0m \u001b[0mlen\u001b[0m\u001b[0;34m(\u001b[0m\u001b[0mmapped\u001b[0m\u001b[0;34m)\u001b[0m \u001b[0;32mand\u001b[0m \u001b[0misinstance\u001b[0m\u001b[0;34m(\u001b[0m\u001b[0mmapped\u001b[0m\u001b[0;34m[\u001b[0m\u001b[0;36m0\u001b[0m\u001b[0;34m]\u001b[0m\u001b[0;34m,\u001b[0m \u001b[0mSeries\u001b[0m\u001b[0;34m)\u001b[0m\u001b[0;34m:\u001b[0m\u001b[0;34m\u001b[0m\u001b[0;34m\u001b[0m\u001b[0m\n",
      "\u001b[0;32mpandas/_libs/lib.pyx\u001b[0m in \u001b[0;36mpandas._libs.lib.map_infer\u001b[0;34m()\u001b[0m\n",
      "\u001b[0;32m<ipython-input-18-f8802c99c819>\u001b[0m in \u001b[0;36mcambiar\u001b[0;34m(string)\u001b[0m\n\u001b[1;32m      1\u001b[0m \u001b[0;32mdef\u001b[0m \u001b[0mcambiar\u001b[0m\u001b[0;34m(\u001b[0m\u001b[0mstring\u001b[0m\u001b[0;34m)\u001b[0m\u001b[0;34m:\u001b[0m\u001b[0;34m\u001b[0m\u001b[0;34m\u001b[0m\u001b[0m\n\u001b[0;32m----> 2\u001b[0;31m     \u001b[0;32mif\u001b[0m \u001b[0mstring\u001b[0m\u001b[0;34m.\u001b[0m\u001b[0mstartswith\u001b[0m\u001b[0;34m(\u001b[0m\u001b[0;34m\"€\"\u001b[0m\u001b[0;34m)\u001b[0m\u001b[0;34m:\u001b[0m\u001b[0;34m\u001b[0m\u001b[0;34m\u001b[0m\u001b[0m\n\u001b[0m\u001b[1;32m      3\u001b[0m         \u001b[0mstring\u001b[0m\u001b[0;34m=\u001b[0m\u001b[0mstring\u001b[0m\u001b[0;34m.\u001b[0m\u001b[0mreplace\u001b[0m\u001b[0;34m(\u001b[0m\u001b[0;34m\"€\"\u001b[0m\u001b[0;34m,\u001b[0m\u001b[0;34m\"\"\u001b[0m\u001b[0;34m)\u001b[0m\u001b[0;34m\u001b[0m\u001b[0;34m\u001b[0m\u001b[0m\n\u001b[1;32m      4\u001b[0m         \u001b[0mstring\u001b[0m\u001b[0;34m=\u001b[0m \u001b[0mint\u001b[0m\u001b[0;34m(\u001b[0m\u001b[0mstring\u001b[0m\u001b[0;34m)\u001b[0m\u001b[0;34m*\u001b[0m\u001b[0mres\u001b[0m\u001b[0;34m[\u001b[0m\u001b[0;34m\"rates\"\u001b[0m\u001b[0;34m]\u001b[0m\u001b[0;34m[\u001b[0m\u001b[0;34m\"EUR\"\u001b[0m\u001b[0;34m]\u001b[0m\u001b[0;34m\u001b[0m\u001b[0;34m\u001b[0m\u001b[0m\n\u001b[1;32m      5\u001b[0m     \u001b[0;32melif\u001b[0m \u001b[0mstring\u001b[0m\u001b[0;34m.\u001b[0m\u001b[0mstartswith\u001b[0m\u001b[0;34m(\u001b[0m\u001b[0;34m\"£\"\u001b[0m\u001b[0;34m)\u001b[0m\u001b[0;34m:\u001b[0m\u001b[0;34m\u001b[0m\u001b[0;34m\u001b[0m\u001b[0m\n",
      "\u001b[0;31mAttributeError\u001b[0m: 'float' object has no attribute 'startswith'"
     ]
    }
   ],
   "source": [
    "df1[\"total_money_raised\"]=df1[\"total_money_raised\"].apply(cambiar)"
   ]
  },
  {
   "cell_type": "code",
   "execution_count": 20,
   "metadata": {},
   "outputs": [
    {
     "data": {
      "text/plain": [
       "0            3559\n",
       "1000000        36\n",
       "500000         24\n",
       "10000000       22\n",
       "3000000        19\n",
       "100000         18\n",
       "250000         17\n",
       "600000         17\n",
       "25000000       16\n",
       "15000000       15\n",
       "5000000        15\n",
       "4000000        15\n",
       "35000000       14\n",
       "11000000       13\n",
       "12000000       12\n",
       "2000000        10\n",
       "150000         10\n",
       "125000000       9\n",
       "13000000        9\n",
       "175000000       9\n",
       "350000          9\n",
       "102000000       9\n",
       "16000000        9\n",
       "75000000        9\n",
       "50000           9\n",
       "45000000        9\n",
       "7000000         8\n",
       "131000000       8\n",
       "31000000        8\n",
       "20000000        7\n",
       "             ... \n",
       "190000000       1\n",
       "291000000       1\n",
       "695000000       1\n",
       "670000          1\n",
       "287000000       1\n",
       "445000000       1\n",
       "276000000       1\n",
       "655000          1\n",
       "355000          1\n",
       "828000000       1\n",
       "876000000       1\n",
       "299000000       1\n",
       "209000000       1\n",
       "801000          1\n",
       "136000000       1\n",
       "247000000       1\n",
       "216000000       1\n",
       "340000          1\n",
       "502000000       1\n",
       "421000000       1\n",
       "193000000       1\n",
       "837000000       1\n",
       "478000000       1\n",
       "555000000       1\n",
       "684000000       1\n",
       "827000000       1\n",
       "436000000       1\n",
       "424000000       1\n",
       "72000000        1\n",
       "959000000       1\n",
       "Name: total_money_raised, Length: 467, dtype: int64"
      ]
     },
     "execution_count": 20,
     "metadata": {},
     "output_type": "execute_result"
    }
   ],
   "source": [
    "df1[\"total_money_raised\"].value_counts()"
   ]
  },
  {
   "cell_type": "code",
   "execution_count": 22,
   "metadata": {},
   "outputs": [
    {
     "data": {
      "text/html": [
       "<div>\n",
       "<style scoped>\n",
       "    .dataframe tbody tr th:only-of-type {\n",
       "        vertical-align: middle;\n",
       "    }\n",
       "\n",
       "    .dataframe tbody tr th {\n",
       "        vertical-align: top;\n",
       "    }\n",
       "\n",
       "    .dataframe thead th {\n",
       "        text-align: right;\n",
       "    }\n",
       "</style>\n",
       "<table border=\"1\" class=\"dataframe\">\n",
       "  <thead>\n",
       "    <tr style=\"text-align: right;\">\n",
       "      <th></th>\n",
       "      <th>name</th>\n",
       "      <th>category_code</th>\n",
       "      <th>number_of_employees</th>\n",
       "      <th>founded_year</th>\n",
       "      <th>total_money_raised</th>\n",
       "      <th>offices</th>\n",
       "    </tr>\n",
       "  </thead>\n",
       "  <tbody>\n",
       "    <tr>\n",
       "      <th>0</th>\n",
       "      <td>Digg</td>\n",
       "      <td>news</td>\n",
       "      <td>60</td>\n",
       "      <td>2004.0</td>\n",
       "      <td>45000000</td>\n",
       "      <td>[{'description': None, 'address1': '135 Missis...</td>\n",
       "    </tr>\n",
       "    <tr>\n",
       "      <th>1</th>\n",
       "      <td>Geni</td>\n",
       "      <td>web</td>\n",
       "      <td>18</td>\n",
       "      <td>2006.0</td>\n",
       "      <td>165000000</td>\n",
       "      <td>[{'description': 'Headquarters', 'address1': '...</td>\n",
       "    </tr>\n",
       "    <tr>\n",
       "      <th>2</th>\n",
       "      <td>Fox Interactive Media</td>\n",
       "      <td>web</td>\n",
       "      <td>0</td>\n",
       "      <td>1979.0</td>\n",
       "      <td>0</td>\n",
       "      <td>[{'description': '', 'address1': '407 N Maple ...</td>\n",
       "    </tr>\n",
       "    <tr>\n",
       "      <th>3</th>\n",
       "      <td>Scribd</td>\n",
       "      <td>news</td>\n",
       "      <td>50</td>\n",
       "      <td>2007.0</td>\n",
       "      <td>258000000</td>\n",
       "      <td>[{'description': 'HQ', 'address1': '539 Bryant...</td>\n",
       "    </tr>\n",
       "    <tr>\n",
       "      <th>4</th>\n",
       "      <td>MeetMoi</td>\n",
       "      <td>social</td>\n",
       "      <td>15</td>\n",
       "      <td>2007.0</td>\n",
       "      <td>558000000</td>\n",
       "      <td>[{'description': None, 'address1': '', 'addres...</td>\n",
       "    </tr>\n",
       "  </tbody>\n",
       "</table>\n",
       "</div>"
      ],
      "text/plain": [
       "                    name category_code  number_of_employees  founded_year  \\\n",
       "0                   Digg          news                   60        2004.0   \n",
       "1                   Geni           web                   18        2006.0   \n",
       "2  Fox Interactive Media           web                    0        1979.0   \n",
       "3                 Scribd          news                   50        2007.0   \n",
       "4                MeetMoi        social                   15        2007.0   \n",
       "\n",
       "  total_money_raised                                            offices  \n",
       "0           45000000  [{'description': None, 'address1': '135 Missis...  \n",
       "1          165000000  [{'description': 'Headquarters', 'address1': '...  \n",
       "2                  0  [{'description': '', 'address1': '407 N Maple ...  \n",
       "3          258000000  [{'description': 'HQ', 'address1': '539 Bryant...  \n",
       "4          558000000  [{'description': None, 'address1': '', 'addres...  "
      ]
     },
     "execution_count": 22,
     "metadata": {},
     "output_type": "execute_result"
    }
   ],
   "source": [
    "df1.head()"
   ]
  },
  {
   "cell_type": "code",
   "execution_count": 23,
   "metadata": {},
   "outputs": [],
   "source": [
    "def getFirst(data):\n",
    "    data = data['offices']\n",
    "#    return (len(data),data[0]['latitude'],data[0]['longitude'])\n",
    "\n",
    "    # Only create the geoJSON object if all geodata is available\n",
    "    principal = None\n",
    "    if data[0]['latitude'] and data[0]['longitude']:\n",
    "        principal = {\n",
    "            \"type\":\"Point\",\n",
    "            \"coordinates\":[data[0]['longitude'], data[0]['latitude']]\n",
    "        }\n",
    "\n",
    "    return {\n",
    "        \"totalOffices\": len(data),\n",
    "        \"lat\": data[0]['latitude'],\n",
    "        \"lng\": data[0]['longitude'],\n",
    "        \"oficina_principal\": principal\n",
    "    }\n",
    "\n",
    "\n",
    "first_office = df1[[\"offices\"]].apply(getFirst, result_type=\"expand\", axis=1)"
   ]
  },
  {
   "cell_type": "code",
   "execution_count": 25,
   "metadata": {},
   "outputs": [
    {
     "data": {
      "text/html": [
       "<div>\n",
       "<style scoped>\n",
       "    .dataframe tbody tr th:only-of-type {\n",
       "        vertical-align: middle;\n",
       "    }\n",
       "\n",
       "    .dataframe tbody tr th {\n",
       "        vertical-align: top;\n",
       "    }\n",
       "\n",
       "    .dataframe thead th {\n",
       "        text-align: right;\n",
       "    }\n",
       "</style>\n",
       "<table border=\"1\" class=\"dataframe\">\n",
       "  <thead>\n",
       "    <tr style=\"text-align: right;\">\n",
       "      <th></th>\n",
       "      <th>lat</th>\n",
       "      <th>lng</th>\n",
       "      <th>oficina_principal</th>\n",
       "      <th>totalOffices</th>\n",
       "    </tr>\n",
       "  </thead>\n",
       "  <tbody>\n",
       "    <tr>\n",
       "      <th>0</th>\n",
       "      <td>37.764726</td>\n",
       "      <td>-122.394523</td>\n",
       "      <td>{'type': 'Point', 'coordinates': [-122.394523,...</td>\n",
       "      <td>1</td>\n",
       "    </tr>\n",
       "    <tr>\n",
       "      <th>1</th>\n",
       "      <td>34.090368</td>\n",
       "      <td>-118.393064</td>\n",
       "      <td>{'type': 'Point', 'coordinates': [-118.393064,...</td>\n",
       "      <td>1</td>\n",
       "    </tr>\n",
       "    <tr>\n",
       "      <th>2</th>\n",
       "      <td>34.076179</td>\n",
       "      <td>-118.394170</td>\n",
       "      <td>{'type': 'Point', 'coordinates': [-118.39417, ...</td>\n",
       "      <td>1</td>\n",
       "    </tr>\n",
       "    <tr>\n",
       "      <th>3</th>\n",
       "      <td>37.789634</td>\n",
       "      <td>-122.404052</td>\n",
       "      <td>{'type': 'Point', 'coordinates': [-122.404052,...</td>\n",
       "      <td>1</td>\n",
       "    </tr>\n",
       "    <tr>\n",
       "      <th>4</th>\n",
       "      <td>40.757929</td>\n",
       "      <td>-73.985506</td>\n",
       "      <td>{'type': 'Point', 'coordinates': [-73.985506, ...</td>\n",
       "      <td>1</td>\n",
       "    </tr>\n",
       "  </tbody>\n",
       "</table>\n",
       "</div>"
      ],
      "text/plain": [
       "         lat         lng                                  oficina_principal  \\\n",
       "0  37.764726 -122.394523  {'type': 'Point', 'coordinates': [-122.394523,...   \n",
       "1  34.090368 -118.393064  {'type': 'Point', 'coordinates': [-118.393064,...   \n",
       "2  34.076179 -118.394170  {'type': 'Point', 'coordinates': [-118.39417, ...   \n",
       "3  37.789634 -122.404052  {'type': 'Point', 'coordinates': [-122.404052,...   \n",
       "4  40.757929  -73.985506  {'type': 'Point', 'coordinates': [-73.985506, ...   \n",
       "\n",
       "   totalOffices  \n",
       "0             1  \n",
       "1             1  \n",
       "2             1  \n",
       "3             1  \n",
       "4             1  "
      ]
     },
     "execution_count": 25,
     "metadata": {},
     "output_type": "execute_result"
    }
   ],
   "source": [
    "first_office.head()"
   ]
  },
  {
   "cell_type": "code",
   "execution_count": 26,
   "metadata": {},
   "outputs": [],
   "source": [
    "df_clean = pd.concat([df1,first_office], axis=1)[[\"name\",\"lng\",\"lat\", \"oficina_principal\",\"totalOffices\", \"category_code\", \"number_of_employees\", \"founded_year\", \"total_money_raised\"]]"
   ]
  },
  {
   "cell_type": "code",
   "execution_count": 28,
   "metadata": {},
   "outputs": [
    {
     "data": {
      "text/html": [
       "<div>\n",
       "<style scoped>\n",
       "    .dataframe tbody tr th:only-of-type {\n",
       "        vertical-align: middle;\n",
       "    }\n",
       "\n",
       "    .dataframe tbody tr th {\n",
       "        vertical-align: top;\n",
       "    }\n",
       "\n",
       "    .dataframe thead th {\n",
       "        text-align: right;\n",
       "    }\n",
       "</style>\n",
       "<table border=\"1\" class=\"dataframe\">\n",
       "  <thead>\n",
       "    <tr style=\"text-align: right;\">\n",
       "      <th></th>\n",
       "      <th>name</th>\n",
       "      <th>lng</th>\n",
       "      <th>lat</th>\n",
       "      <th>oficina_principal</th>\n",
       "      <th>totalOffices</th>\n",
       "      <th>category_code</th>\n",
       "      <th>number_of_employees</th>\n",
       "      <th>founded_year</th>\n",
       "      <th>total_money_raised</th>\n",
       "    </tr>\n",
       "  </thead>\n",
       "  <tbody>\n",
       "    <tr>\n",
       "      <th>0</th>\n",
       "      <td>Digg</td>\n",
       "      <td>-122.394523</td>\n",
       "      <td>37.764726</td>\n",
       "      <td>{'type': 'Point', 'coordinates': [-122.394523,...</td>\n",
       "      <td>1</td>\n",
       "      <td>news</td>\n",
       "      <td>60</td>\n",
       "      <td>2004.0</td>\n",
       "      <td>45000000</td>\n",
       "    </tr>\n",
       "    <tr>\n",
       "      <th>1</th>\n",
       "      <td>Geni</td>\n",
       "      <td>-118.393064</td>\n",
       "      <td>34.090368</td>\n",
       "      <td>{'type': 'Point', 'coordinates': [-118.393064,...</td>\n",
       "      <td>1</td>\n",
       "      <td>web</td>\n",
       "      <td>18</td>\n",
       "      <td>2006.0</td>\n",
       "      <td>165000000</td>\n",
       "    </tr>\n",
       "    <tr>\n",
       "      <th>2</th>\n",
       "      <td>Fox Interactive Media</td>\n",
       "      <td>-118.394170</td>\n",
       "      <td>34.076179</td>\n",
       "      <td>{'type': 'Point', 'coordinates': [-118.39417, ...</td>\n",
       "      <td>1</td>\n",
       "      <td>web</td>\n",
       "      <td>0</td>\n",
       "      <td>1979.0</td>\n",
       "      <td>0</td>\n",
       "    </tr>\n",
       "    <tr>\n",
       "      <th>3</th>\n",
       "      <td>Scribd</td>\n",
       "      <td>-122.404052</td>\n",
       "      <td>37.789634</td>\n",
       "      <td>{'type': 'Point', 'coordinates': [-122.404052,...</td>\n",
       "      <td>1</td>\n",
       "      <td>news</td>\n",
       "      <td>50</td>\n",
       "      <td>2007.0</td>\n",
       "      <td>258000000</td>\n",
       "    </tr>\n",
       "    <tr>\n",
       "      <th>4</th>\n",
       "      <td>MeetMoi</td>\n",
       "      <td>-73.985506</td>\n",
       "      <td>40.757929</td>\n",
       "      <td>{'type': 'Point', 'coordinates': [-73.985506, ...</td>\n",
       "      <td>1</td>\n",
       "      <td>social</td>\n",
       "      <td>15</td>\n",
       "      <td>2007.0</td>\n",
       "      <td>558000000</td>\n",
       "    </tr>\n",
       "  </tbody>\n",
       "</table>\n",
       "</div>"
      ],
      "text/plain": [
       "                    name         lng        lat  \\\n",
       "0                   Digg -122.394523  37.764726   \n",
       "1                   Geni -118.393064  34.090368   \n",
       "2  Fox Interactive Media -118.394170  34.076179   \n",
       "3                 Scribd -122.404052  37.789634   \n",
       "4                MeetMoi  -73.985506  40.757929   \n",
       "\n",
       "                                   oficina_principal  totalOffices  \\\n",
       "0  {'type': 'Point', 'coordinates': [-122.394523,...             1   \n",
       "1  {'type': 'Point', 'coordinates': [-118.393064,...             1   \n",
       "2  {'type': 'Point', 'coordinates': [-118.39417, ...             1   \n",
       "3  {'type': 'Point', 'coordinates': [-122.404052,...             1   \n",
       "4  {'type': 'Point', 'coordinates': [-73.985506, ...             1   \n",
       "\n",
       "  category_code  number_of_employees  founded_year total_money_raised  \n",
       "0          news                   60        2004.0           45000000  \n",
       "1           web                   18        2006.0          165000000  \n",
       "2           web                    0        1979.0                  0  \n",
       "3          news                   50        2007.0          258000000  \n",
       "4        social                   15        2007.0          558000000  "
      ]
     },
     "execution_count": 28,
     "metadata": {},
     "output_type": "execute_result"
    }
   ],
   "source": [
    "df_clean.head()"
   ]
  },
  {
   "cell_type": "code",
   "execution_count": 31,
   "metadata": {},
   "outputs": [],
   "source": [
    "df_clean[\"total_money_raised\"]=df_clean[\"total_money_raised\"].apply(pd.to_numeric)"
   ]
  },
  {
   "cell_type": "code",
   "execution_count": 34,
   "metadata": {},
   "outputs": [
    {
     "data": {
      "text/html": [
       "<div>\n",
       "<style scoped>\n",
       "    .dataframe tbody tr th:only-of-type {\n",
       "        vertical-align: middle;\n",
       "    }\n",
       "\n",
       "    .dataframe tbody tr th {\n",
       "        vertical-align: top;\n",
       "    }\n",
       "\n",
       "    .dataframe thead th {\n",
       "        text-align: right;\n",
       "    }\n",
       "</style>\n",
       "<table border=\"1\" class=\"dataframe\">\n",
       "  <thead>\n",
       "    <tr style=\"text-align: right;\">\n",
       "      <th></th>\n",
       "      <th>name</th>\n",
       "      <th>lng</th>\n",
       "      <th>lat</th>\n",
       "      <th>oficina_principal</th>\n",
       "      <th>totalOffices</th>\n",
       "      <th>category_code</th>\n",
       "      <th>number_of_employees</th>\n",
       "      <th>founded_year</th>\n",
       "      <th>total_money_raised</th>\n",
       "    </tr>\n",
       "  </thead>\n",
       "  <tbody>\n",
       "    <tr>\n",
       "      <th>0</th>\n",
       "      <td>Digg</td>\n",
       "      <td>-122.394523</td>\n",
       "      <td>37.764726</td>\n",
       "      <td>{'type': 'Point', 'coordinates': [-122.394523,...</td>\n",
       "      <td>1</td>\n",
       "      <td>news</td>\n",
       "      <td>60</td>\n",
       "      <td>2004.0</td>\n",
       "      <td>45000000.0</td>\n",
       "    </tr>\n",
       "    <tr>\n",
       "      <th>1</th>\n",
       "      <td>Geni</td>\n",
       "      <td>-118.393064</td>\n",
       "      <td>34.090368</td>\n",
       "      <td>{'type': 'Point', 'coordinates': [-118.393064,...</td>\n",
       "      <td>1</td>\n",
       "      <td>web</td>\n",
       "      <td>18</td>\n",
       "      <td>2006.0</td>\n",
       "      <td>165000000.0</td>\n",
       "    </tr>\n",
       "    <tr>\n",
       "      <th>2</th>\n",
       "      <td>Fox Interactive Media</td>\n",
       "      <td>-118.394170</td>\n",
       "      <td>34.076179</td>\n",
       "      <td>{'type': 'Point', 'coordinates': [-118.39417, ...</td>\n",
       "      <td>1</td>\n",
       "      <td>web</td>\n",
       "      <td>0</td>\n",
       "      <td>1979.0</td>\n",
       "      <td>0.0</td>\n",
       "    </tr>\n",
       "    <tr>\n",
       "      <th>3</th>\n",
       "      <td>Scribd</td>\n",
       "      <td>-122.404052</td>\n",
       "      <td>37.789634</td>\n",
       "      <td>{'type': 'Point', 'coordinates': [-122.404052,...</td>\n",
       "      <td>1</td>\n",
       "      <td>news</td>\n",
       "      <td>50</td>\n",
       "      <td>2007.0</td>\n",
       "      <td>258000000.0</td>\n",
       "    </tr>\n",
       "    <tr>\n",
       "      <th>4</th>\n",
       "      <td>MeetMoi</td>\n",
       "      <td>-73.985506</td>\n",
       "      <td>40.757929</td>\n",
       "      <td>{'type': 'Point', 'coordinates': [-73.985506, ...</td>\n",
       "      <td>1</td>\n",
       "      <td>social</td>\n",
       "      <td>15</td>\n",
       "      <td>2007.0</td>\n",
       "      <td>558000000.0</td>\n",
       "    </tr>\n",
       "  </tbody>\n",
       "</table>\n",
       "</div>"
      ],
      "text/plain": [
       "                    name         lng        lat  \\\n",
       "0                   Digg -122.394523  37.764726   \n",
       "1                   Geni -118.393064  34.090368   \n",
       "2  Fox Interactive Media -118.394170  34.076179   \n",
       "3                 Scribd -122.404052  37.789634   \n",
       "4                MeetMoi  -73.985506  40.757929   \n",
       "\n",
       "                                   oficina_principal  totalOffices  \\\n",
       "0  {'type': 'Point', 'coordinates': [-122.394523,...             1   \n",
       "1  {'type': 'Point', 'coordinates': [-118.393064,...             1   \n",
       "2  {'type': 'Point', 'coordinates': [-118.39417, ...             1   \n",
       "3  {'type': 'Point', 'coordinates': [-122.404052,...             1   \n",
       "4  {'type': 'Point', 'coordinates': [-73.985506, ...             1   \n",
       "\n",
       "  category_code  number_of_employees  founded_year  total_money_raised  \n",
       "0          news                   60        2004.0          45000000.0  \n",
       "1           web                   18        2006.0         165000000.0  \n",
       "2           web                    0        1979.0                 0.0  \n",
       "3          news                   50        2007.0         258000000.0  \n",
       "4        social                   15        2007.0         558000000.0  "
      ]
     },
     "execution_count": 34,
     "metadata": {},
     "output_type": "execute_result"
    }
   ],
   "source": [
    "df_clean.head()"
   ]
  },
  {
   "cell_type": "code",
   "execution_count": 35,
   "metadata": {},
   "outputs": [],
   "source": [
    "df_clean.to_json('limpio.json', orient=\"records\")"
   ]
  },
  {
   "cell_type": "code",
   "execution_count": null,
   "metadata": {},
   "outputs": [],
   "source": []
  }
 ],
 "metadata": {
  "kernelspec": {
   "display_name": "Python 3",
   "language": "python",
   "name": "python3"
  },
  "language_info": {
   "codemirror_mode": {
    "name": "ipython",
    "version": 3
   },
   "file_extension": ".py",
   "mimetype": "text/x-python",
   "name": "python",
   "nbconvert_exporter": "python",
   "pygments_lexer": "ipython3",
   "version": "3.7.2"
  }
 },
 "nbformat": 4,
 "nbformat_minor": 2
}
